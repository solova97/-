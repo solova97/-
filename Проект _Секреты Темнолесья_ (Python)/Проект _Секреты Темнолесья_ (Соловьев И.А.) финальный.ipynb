{
 "cells": [
  {
   "cell_type": "markdown",
   "id": "c5ff13c0",
   "metadata": {},
   "source": [
    "<div style=\"border:solid Chocolate 2px; padding: 40px\">\n",
    " \n",
    "<b> Иван, привет!👋</b> \n",
    "\n",
    "Меня зовут Кирилл Васильев, я буду ревьюером твоего проекта. Я предлагаю общаться на «ты», но если привычнее на «вы», просто скажи об этом! \n",
    "\n",
    "Я буду оставлять комментарии в твоем проекте. Пожалуйста, не удаляй их, они могут быть полезны в случае повторной проверки.\n",
    "\n",
    "Свои комментарии я буду обозначать <font color='green'>зеленым</font>, <font color='gold'>желтым</font> и <font color='red'>красным</font> цветами, например:\n",
    "  \n",
    "<br/> \n",
    "\n",
    "<div class=\"alert alert-success\">\n",
    "<h2> Комментарий ревьюера <a class=\"tocSkip\"> </h2>\n",
    "\n",
    "<b>Все отлично!👍:</b> В случае, если решение на отдельном шаге является полностью правильным. Здесь же я могу давать советы и предложения.\n",
    "</div>\n",
    "\n",
    "<br/>\n",
    "\n",
    "<div class=\"alert alert-warning\">\n",
    "    <h2> Комментарий ревьюера <a class=\"tocSkip\"> </h2>\n",
    "    \n",
    "<b>Некоторые замечания и рекомендации💡:</b> В случае, когда решение на отдельном шаге станет еще лучше, если внести небольшие коррективы.\n",
    "</div> \n",
    " \n",
    "\n",
    "<br/>\n",
    "<div class=\"alert alert-block alert-danger\">\n",
    "<h2> Комментарий ревьюера <a class=\"tocSkip\"></h2>\n",
    " \n",
    "   \n",
    "<b>На доработку🤔:</b>\n",
    " В случае, когда решение на отдельном шаге требует существенной переработки и внесения правок. Напоминаю, что проект не может быть принят с первого раза, если ревью содержит комментарии, рекомендующие доработать шаги.\n",
    "</div>  \n",
    "\n",
    "<br/>\n",
    "<div class=\"alert alert-info\">\n",
    "Рекомендую для твоих комментариев использовать синий или любой другой цветной фон. Я постараюсь ничего не пропустить, но если комментарии будут выделены, то это мне очень поможет!\n",
    "</div>\n",
    "    \n",
    "Увидев у тебя неточность, в первый раз я лишь укажу на ее наличие и дам тебе возможность самостоятельно найти и исправить ее. На реальной работе твой руководитель будет поступать также. Но если ты пока не справишься с такой задачей - при следующей проверке я дам более точную подсказку.\n",
    "\n"
   ]
  },
  {
   "cell_type": "markdown",
   "id": "e06910dd",
   "metadata": {
    "id": "e06910dd"
   },
   "source": [
    "# Проект \"Секреты Темнолесья\"\n",
    "\n",
    "- Автор: Соловьев Иван Александрович\n",
    "- Дата: 12.06.2025"
   ]
  },
  {
   "cell_type": "markdown",
   "id": "4149134c",
   "metadata": {
    "id": "4149134c"
   },
   "source": [
    "### Цели и задачи проекта\n",
    "\n",
    "**Цель проекта** - на основе предоставленных исторических данных, относящихся к игровой сфере, помочь коллегам изучить развитие этой индустрии.\n",
    "\n",
    "Для этого следует решить следующие задачи:\n",
    "\n",
    "1) Познакомиться с данными.\n",
    "\n",
    "2) Проверить корректность данных, их тип, наличие пропусков и дубликатов.\n",
    "\n",
    "3) Провести фильтрацию данных за период 2000-2013 гг.\n",
    "    \n",
    "4) Провести категоризацию данных."
   ]
  },
  {
   "cell_type": "markdown",
   "id": "728986ea",
   "metadata": {
    "id": "728986ea"
   },
   "source": [
    "### Описание данных\n",
    "\n",
    "Данные /datasets/new_games.csv содержат информацию о продажах игр разных жанров и платформ, а также пользовательские и экспертные оценки игр:\n",
    "Name — название игры.\n",
    "\n",
    "**Platform** — название платформы.\n",
    "    \n",
    "**Year of Release** — год выпуска игры.\n",
    "\n",
    "**Genre** — жанр игры.\n",
    "\n",
    "**NA sales** — продажи в Северной Америке (в миллионах проданных копий).\n",
    "\n",
    "**EU sales** — продажи в Европе (в миллионах проданных копий).\n",
    "\n",
    "**JP sales** — продажи в Японии (в миллионах проданных копий).\n",
    "\n",
    "**Other sales** — продажи в других странах (в миллионах проданных копий).\n",
    "\n",
    "**Critic Score** — оценка критиков (от 0 до 100).\n",
    "\n",
    "**User Score** — оценка пользователей (от 0 до 10).\n",
    "\n",
    "**Rating** — рейтинг организации ESRB (англ. Entertainment Software Rating Board). Эта ассоциация определяет рейтинг компьютерных игр и присваивает им подходящую возрастную категорию."
   ]
  },
  {
   "cell_type": "markdown",
   "id": "4fecaf95",
   "metadata": {
    "id": "4fecaf95"
   },
   "source": [
    "### Содержимое проекта\n",
    "\n",
    "- Загрузка и знакомство с данными\n",
    "- Проверка ошибок в данных и их предобработка\n",
    "- Фильтрация данных\n",
    "- Категоризация данных\n",
    "- Итоговый вывод\n",
    "\n",
    "---"
   ]
  },
  {
   "cell_type": "markdown",
   "id": "883e5093",
   "metadata": {},
   "source": [
    "<div class=\"alert alert-success\">\n",
    "<h2> Комментарий ревьюера  <a class=\"tocSkip\"> </h2>\n",
    "\n",
    "👍 Отлично по описанию. Цели и задачи ясны. Контекст проекта будет понятен любому потенциальному читателю.\n",
    " \n",
    "\n"
   ]
  },
  {
   "cell_type": "markdown",
   "id": "6f7d21d6",
   "metadata": {
    "id": "6f7d21d6"
   },
   "source": [
    "## 1. Загрузка данных и знакомство с ними\n",
    "\n",
    "- Загрузим необходимые библиотеки Python и данные датасета `/datasets/new_games.csv`.\n"
   ]
  },
  {
   "cell_type": "code",
   "execution_count": 3,
   "id": "ebb66dc5",
   "metadata": {
    "id": "ebb66dc5"
   },
   "outputs": [],
   "source": [
    "# Импортируем библиотеку pandas\n",
    "import pandas as pd"
   ]
  },
  {
   "cell_type": "code",
   "execution_count": 4,
   "id": "ce87c1db",
   "metadata": {
    "id": "ce87c1db"
   },
   "outputs": [],
   "source": [
    "# Выгружаем данные из датасета new_games.csv в датафрейм games\n",
    "games = pd.read_csv('https://code.s3.yandex.net/datasets/new_games.csv')"
   ]
  },
  {
   "cell_type": "markdown",
   "id": "e0a8705f",
   "metadata": {
    "id": "e0a8705f"
   },
   "source": [
    "- Изучим данные датасета, для этого выведем первые 5 строк и общую информацию о нем:\n"
   ]
  },
  {
   "cell_type": "code",
   "execution_count": 5,
   "id": "3937acf7",
   "metadata": {
    "id": "3937acf7"
   },
   "outputs": [
    {
     "data": {
      "text/html": [
       "<div>\n",
       "<style scoped>\n",
       "    .dataframe tbody tr th:only-of-type {\n",
       "        vertical-align: middle;\n",
       "    }\n",
       "\n",
       "    .dataframe tbody tr th {\n",
       "        vertical-align: top;\n",
       "    }\n",
       "\n",
       "    .dataframe thead th {\n",
       "        text-align: right;\n",
       "    }\n",
       "</style>\n",
       "<table border=\"1\" class=\"dataframe\">\n",
       "  <thead>\n",
       "    <tr style=\"text-align: right;\">\n",
       "      <th></th>\n",
       "      <th>Name</th>\n",
       "      <th>Platform</th>\n",
       "      <th>Year of Release</th>\n",
       "      <th>Genre</th>\n",
       "      <th>NA sales</th>\n",
       "      <th>EU sales</th>\n",
       "      <th>JP sales</th>\n",
       "      <th>Other sales</th>\n",
       "      <th>Critic Score</th>\n",
       "      <th>User Score</th>\n",
       "      <th>Rating</th>\n",
       "    </tr>\n",
       "  </thead>\n",
       "  <tbody>\n",
       "    <tr>\n",
       "      <th>0</th>\n",
       "      <td>Wii Sports</td>\n",
       "      <td>Wii</td>\n",
       "      <td>2006.0</td>\n",
       "      <td>Sports</td>\n",
       "      <td>41.36</td>\n",
       "      <td>28.96</td>\n",
       "      <td>3.77</td>\n",
       "      <td>8.45</td>\n",
       "      <td>76.0</td>\n",
       "      <td>8</td>\n",
       "      <td>E</td>\n",
       "    </tr>\n",
       "    <tr>\n",
       "      <th>1</th>\n",
       "      <td>Super Mario Bros.</td>\n",
       "      <td>NES</td>\n",
       "      <td>1985.0</td>\n",
       "      <td>Platform</td>\n",
       "      <td>29.08</td>\n",
       "      <td>3.58</td>\n",
       "      <td>6.81</td>\n",
       "      <td>0.77</td>\n",
       "      <td>NaN</td>\n",
       "      <td>NaN</td>\n",
       "      <td>NaN</td>\n",
       "    </tr>\n",
       "    <tr>\n",
       "      <th>2</th>\n",
       "      <td>Mario Kart Wii</td>\n",
       "      <td>Wii</td>\n",
       "      <td>2008.0</td>\n",
       "      <td>Racing</td>\n",
       "      <td>15.68</td>\n",
       "      <td>12.76</td>\n",
       "      <td>3.79</td>\n",
       "      <td>3.29</td>\n",
       "      <td>82.0</td>\n",
       "      <td>8.3</td>\n",
       "      <td>E</td>\n",
       "    </tr>\n",
       "    <tr>\n",
       "      <th>3</th>\n",
       "      <td>Wii Sports Resort</td>\n",
       "      <td>Wii</td>\n",
       "      <td>2009.0</td>\n",
       "      <td>Sports</td>\n",
       "      <td>15.61</td>\n",
       "      <td>10.93</td>\n",
       "      <td>3.28</td>\n",
       "      <td>2.95</td>\n",
       "      <td>80.0</td>\n",
       "      <td>8</td>\n",
       "      <td>E</td>\n",
       "    </tr>\n",
       "    <tr>\n",
       "      <th>4</th>\n",
       "      <td>Pokemon Red/Pokemon Blue</td>\n",
       "      <td>GB</td>\n",
       "      <td>1996.0</td>\n",
       "      <td>Role-Playing</td>\n",
       "      <td>11.27</td>\n",
       "      <td>8.89</td>\n",
       "      <td>10.22</td>\n",
       "      <td>1.00</td>\n",
       "      <td>NaN</td>\n",
       "      <td>NaN</td>\n",
       "      <td>NaN</td>\n",
       "    </tr>\n",
       "  </tbody>\n",
       "</table>\n",
       "</div>"
      ],
      "text/plain": [
       "                       Name Platform  Year of Release         Genre  NA sales  \\\n",
       "0                Wii Sports      Wii           2006.0        Sports     41.36   \n",
       "1         Super Mario Bros.      NES           1985.0      Platform     29.08   \n",
       "2            Mario Kart Wii      Wii           2008.0        Racing     15.68   \n",
       "3         Wii Sports Resort      Wii           2009.0        Sports     15.61   \n",
       "4  Pokemon Red/Pokemon Blue       GB           1996.0  Role-Playing     11.27   \n",
       "\n",
       "  EU sales JP sales  Other sales  Critic Score User Score Rating  \n",
       "0    28.96     3.77         8.45          76.0          8      E  \n",
       "1     3.58     6.81         0.77           NaN        NaN    NaN  \n",
       "2    12.76     3.79         3.29          82.0        8.3      E  \n",
       "3    10.93     3.28         2.95          80.0          8      E  \n",
       "4     8.89    10.22         1.00           NaN        NaN    NaN  "
      ]
     },
     "execution_count": 5,
     "metadata": {},
     "output_type": "execute_result"
    }
   ],
   "source": [
    "games.head()"
   ]
  },
  {
   "cell_type": "code",
   "execution_count": 6,
   "id": "d7c8eb4b",
   "metadata": {
    "id": "d7c8eb4b",
    "scrolled": false
   },
   "outputs": [
    {
     "name": "stdout",
     "output_type": "stream",
     "text": [
      "<class 'pandas.core.frame.DataFrame'>\n",
      "RangeIndex: 16956 entries, 0 to 16955\n",
      "Data columns (total 11 columns):\n",
      " #   Column           Non-Null Count  Dtype  \n",
      "---  ------           --------------  -----  \n",
      " 0   Name             16954 non-null  object \n",
      " 1   Platform         16956 non-null  object \n",
      " 2   Year of Release  16681 non-null  float64\n",
      " 3   Genre            16954 non-null  object \n",
      " 4   NA sales         16956 non-null  float64\n",
      " 5   EU sales         16956 non-null  object \n",
      " 6   JP sales         16956 non-null  object \n",
      " 7   Other sales      16956 non-null  float64\n",
      " 8   Critic Score     8242 non-null   float64\n",
      " 9   User Score       10152 non-null  object \n",
      " 10  Rating           10085 non-null  object \n",
      "dtypes: float64(4), object(7)\n",
      "memory usage: 1.4+ MB\n"
     ]
    }
   ],
   "source": [
    "games.info()"
   ]
  },
  {
   "cell_type": "markdown",
   "id": "0534415b",
   "metadata": {},
   "source": [
    "Выведем количество строк и столбцов, сохраним эти данные в переменную:"
   ]
  },
  {
   "cell_type": "code",
   "execution_count": 7,
   "id": "098b5a79",
   "metadata": {},
   "outputs": [],
   "source": [
    "games_strcol = games.shape"
   ]
  },
  {
   "cell_type": "markdown",
   "id": "05f55eb6",
   "metadata": {
    "id": "05f55eb6"
   },
   "source": [
    "**Промежуточный вывод:**\n",
    "\n",
    "Датафрейм состоит из 16956 строк и 11 столбцов, то есть он является достаточно объемным.\n",
    "\n",
    "В каждом столбце данные соответствуют своему описанию и логически не конфликтуют с названием колонки.\n",
    "\n",
    "Наиболее частые пропуски наблюдаются в столбцах Critic Score, User Score, Rating: 8242, 10152 и 10085 пропущенных значений соответственно. Не столь критическое количество пропусков встречается в столбце Year of Release - 16681. По 2 пропущенных значения имеются в столбце Name и Genre.\n",
    "\n",
    "Колонки с названиями Name, Platform, Genre, NA sales, Other sales, Critic Score, Rating имеют правильный тип данных: либо тип object для текстовой информации (например, наименование игры, платформы, рейтинг ESRB), либо тип float64 (например, для количества продаж и оценки критиков).\n",
    "\n",
    "Проблема с типом данных наблюдается у оставшихся столбцов, это: Year of Release (логичен тип datetime64 для даты релиза, но можно привести к типу int, так как мы имеем только год и он не может обозначаться нецелым числом), EU sales и JP sales (логичен тип float64 для отображения количества продаж в миллионах), User Score (нужно привести к типу float64 для последующей обработки оценки пользователей).\n",
    "\n",
    "*Дополнительные замечания:* рекомендуется привести названия столбцов к формату snake case для более удобного и привычного использования в дальнейшем. </font>"
   ]
  },
  {
   "cell_type": "markdown",
   "id": "74d0eed5",
   "metadata": {},
   "source": [
    "<div class=\"alert alert-success\">\n",
    "<h2> Комментарий ревьюера  <a class=\"tocSkip\"> </h2>\n",
    "\n",
    "👍 Все так. В данных есть пропуски, можно поправить по стилю названий колонок, а также обязательно нужно разобраться в проблемах с несоответствием типов данных содержанию столбцов.\n",
    "\n"
   ]
  },
  {
   "cell_type": "markdown",
   "id": "774bf76e",
   "metadata": {
    "id": "774bf76e"
   },
   "source": [
    "---\n",
    "\n",
    "## 2.  Проверка ошибок в данных и их предобработка\n",
    "\n",
    "\n",
    "### 2.1. Названия, или метки, столбцов датафрейма\n",
    "\n",
    "Выведем названия всех столбцов датафрейма:"
   ]
  },
  {
   "cell_type": "code",
   "execution_count": 8,
   "id": "b9276a2b",
   "metadata": {
    "id": "b9276a2b"
   },
   "outputs": [
    {
     "data": {
      "text/plain": [
       "Index(['Name', 'Platform', 'Year of Release', 'Genre', 'NA sales', 'EU sales',\n",
       "       'JP sales', 'Other sales', 'Critic Score', 'User Score', 'Rating'],\n",
       "      dtype='object')"
      ]
     },
     "execution_count": 8,
     "metadata": {},
     "output_type": "execute_result"
    }
   ],
   "source": [
    "games.columns"
   ]
  },
  {
   "cell_type": "markdown",
   "id": "c6cc586b",
   "metadata": {
    "id": "d554563c"
   },
   "source": [
    "Приведем все столбцы к стилю snake case"
   ]
  },
  {
   "cell_type": "code",
   "execution_count": 9,
   "id": "87b573dd",
   "metadata": {
    "id": "87b573dd"
   },
   "outputs": [],
   "source": [
    "games.columns = [x.lower().replace(' ', '_') for x in games.columns.values]"
   ]
  },
  {
   "cell_type": "markdown",
   "id": "079b32eb",
   "metadata": {},
   "source": [
    "Выведем датафрейм с измененными названиями столбцов:"
   ]
  },
  {
   "cell_type": "code",
   "execution_count": 10,
   "id": "737ea89b",
   "metadata": {},
   "outputs": [
    {
     "data": {
      "text/html": [
       "<div>\n",
       "<style scoped>\n",
       "    .dataframe tbody tr th:only-of-type {\n",
       "        vertical-align: middle;\n",
       "    }\n",
       "\n",
       "    .dataframe tbody tr th {\n",
       "        vertical-align: top;\n",
       "    }\n",
       "\n",
       "    .dataframe thead th {\n",
       "        text-align: right;\n",
       "    }\n",
       "</style>\n",
       "<table border=\"1\" class=\"dataframe\">\n",
       "  <thead>\n",
       "    <tr style=\"text-align: right;\">\n",
       "      <th></th>\n",
       "      <th>name</th>\n",
       "      <th>platform</th>\n",
       "      <th>year_of_release</th>\n",
       "      <th>genre</th>\n",
       "      <th>na_sales</th>\n",
       "      <th>eu_sales</th>\n",
       "      <th>jp_sales</th>\n",
       "      <th>other_sales</th>\n",
       "      <th>critic_score</th>\n",
       "      <th>user_score</th>\n",
       "      <th>rating</th>\n",
       "    </tr>\n",
       "  </thead>\n",
       "  <tbody>\n",
       "    <tr>\n",
       "      <th>0</th>\n",
       "      <td>Wii Sports</td>\n",
       "      <td>Wii</td>\n",
       "      <td>2006.0</td>\n",
       "      <td>Sports</td>\n",
       "      <td>41.36</td>\n",
       "      <td>28.96</td>\n",
       "      <td>3.77</td>\n",
       "      <td>8.45</td>\n",
       "      <td>76.0</td>\n",
       "      <td>8</td>\n",
       "      <td>E</td>\n",
       "    </tr>\n",
       "    <tr>\n",
       "      <th>1</th>\n",
       "      <td>Super Mario Bros.</td>\n",
       "      <td>NES</td>\n",
       "      <td>1985.0</td>\n",
       "      <td>Platform</td>\n",
       "      <td>29.08</td>\n",
       "      <td>3.58</td>\n",
       "      <td>6.81</td>\n",
       "      <td>0.77</td>\n",
       "      <td>NaN</td>\n",
       "      <td>NaN</td>\n",
       "      <td>NaN</td>\n",
       "    </tr>\n",
       "    <tr>\n",
       "      <th>2</th>\n",
       "      <td>Mario Kart Wii</td>\n",
       "      <td>Wii</td>\n",
       "      <td>2008.0</td>\n",
       "      <td>Racing</td>\n",
       "      <td>15.68</td>\n",
       "      <td>12.76</td>\n",
       "      <td>3.79</td>\n",
       "      <td>3.29</td>\n",
       "      <td>82.0</td>\n",
       "      <td>8.3</td>\n",
       "      <td>E</td>\n",
       "    </tr>\n",
       "    <tr>\n",
       "      <th>3</th>\n",
       "      <td>Wii Sports Resort</td>\n",
       "      <td>Wii</td>\n",
       "      <td>2009.0</td>\n",
       "      <td>Sports</td>\n",
       "      <td>15.61</td>\n",
       "      <td>10.93</td>\n",
       "      <td>3.28</td>\n",
       "      <td>2.95</td>\n",
       "      <td>80.0</td>\n",
       "      <td>8</td>\n",
       "      <td>E</td>\n",
       "    </tr>\n",
       "    <tr>\n",
       "      <th>4</th>\n",
       "      <td>Pokemon Red/Pokemon Blue</td>\n",
       "      <td>GB</td>\n",
       "      <td>1996.0</td>\n",
       "      <td>Role-Playing</td>\n",
       "      <td>11.27</td>\n",
       "      <td>8.89</td>\n",
       "      <td>10.22</td>\n",
       "      <td>1.00</td>\n",
       "      <td>NaN</td>\n",
       "      <td>NaN</td>\n",
       "      <td>NaN</td>\n",
       "    </tr>\n",
       "    <tr>\n",
       "      <th>...</th>\n",
       "      <td>...</td>\n",
       "      <td>...</td>\n",
       "      <td>...</td>\n",
       "      <td>...</td>\n",
       "      <td>...</td>\n",
       "      <td>...</td>\n",
       "      <td>...</td>\n",
       "      <td>...</td>\n",
       "      <td>...</td>\n",
       "      <td>...</td>\n",
       "      <td>...</td>\n",
       "    </tr>\n",
       "    <tr>\n",
       "      <th>16951</th>\n",
       "      <td>Samurai Warriors: Sanada Maru</td>\n",
       "      <td>PS3</td>\n",
       "      <td>2016.0</td>\n",
       "      <td>Action</td>\n",
       "      <td>0.00</td>\n",
       "      <td>0.0</td>\n",
       "      <td>0.01</td>\n",
       "      <td>0.00</td>\n",
       "      <td>NaN</td>\n",
       "      <td>NaN</td>\n",
       "      <td>NaN</td>\n",
       "    </tr>\n",
       "    <tr>\n",
       "      <th>16952</th>\n",
       "      <td>LMA Manager 2007</td>\n",
       "      <td>X360</td>\n",
       "      <td>2006.0</td>\n",
       "      <td>Sports</td>\n",
       "      <td>0.00</td>\n",
       "      <td>0.01</td>\n",
       "      <td>0.0</td>\n",
       "      <td>0.00</td>\n",
       "      <td>NaN</td>\n",
       "      <td>NaN</td>\n",
       "      <td>NaN</td>\n",
       "    </tr>\n",
       "    <tr>\n",
       "      <th>16953</th>\n",
       "      <td>Haitaka no Psychedelica</td>\n",
       "      <td>PSV</td>\n",
       "      <td>2016.0</td>\n",
       "      <td>Adventure</td>\n",
       "      <td>0.00</td>\n",
       "      <td>0.0</td>\n",
       "      <td>0.01</td>\n",
       "      <td>0.00</td>\n",
       "      <td>NaN</td>\n",
       "      <td>NaN</td>\n",
       "      <td>NaN</td>\n",
       "    </tr>\n",
       "    <tr>\n",
       "      <th>16954</th>\n",
       "      <td>Spirits &amp; Spells</td>\n",
       "      <td>GBA</td>\n",
       "      <td>2003.0</td>\n",
       "      <td>Platform</td>\n",
       "      <td>0.01</td>\n",
       "      <td>0.0</td>\n",
       "      <td>0.0</td>\n",
       "      <td>0.00</td>\n",
       "      <td>NaN</td>\n",
       "      <td>NaN</td>\n",
       "      <td>NaN</td>\n",
       "    </tr>\n",
       "    <tr>\n",
       "      <th>16955</th>\n",
       "      <td>Winning Post 8 2016</td>\n",
       "      <td>PSV</td>\n",
       "      <td>2016.0</td>\n",
       "      <td>Simulation</td>\n",
       "      <td>0.00</td>\n",
       "      <td>0.0</td>\n",
       "      <td>0.01</td>\n",
       "      <td>0.00</td>\n",
       "      <td>NaN</td>\n",
       "      <td>NaN</td>\n",
       "      <td>NaN</td>\n",
       "    </tr>\n",
       "  </tbody>\n",
       "</table>\n",
       "<p>16956 rows × 11 columns</p>\n",
       "</div>"
      ],
      "text/plain": [
       "                                name platform  year_of_release         genre  \\\n",
       "0                         Wii Sports      Wii           2006.0        Sports   \n",
       "1                  Super Mario Bros.      NES           1985.0      Platform   \n",
       "2                     Mario Kart Wii      Wii           2008.0        Racing   \n",
       "3                  Wii Sports Resort      Wii           2009.0        Sports   \n",
       "4           Pokemon Red/Pokemon Blue       GB           1996.0  Role-Playing   \n",
       "...                              ...      ...              ...           ...   \n",
       "16951  Samurai Warriors: Sanada Maru      PS3           2016.0        Action   \n",
       "16952               LMA Manager 2007     X360           2006.0        Sports   \n",
       "16953        Haitaka no Psychedelica      PSV           2016.0     Adventure   \n",
       "16954               Spirits & Spells      GBA           2003.0      Platform   \n",
       "16955            Winning Post 8 2016      PSV           2016.0    Simulation   \n",
       "\n",
       "       na_sales eu_sales jp_sales  other_sales  critic_score user_score rating  \n",
       "0         41.36    28.96     3.77         8.45          76.0          8      E  \n",
       "1         29.08     3.58     6.81         0.77           NaN        NaN    NaN  \n",
       "2         15.68    12.76     3.79         3.29          82.0        8.3      E  \n",
       "3         15.61    10.93     3.28         2.95          80.0          8      E  \n",
       "4         11.27     8.89    10.22         1.00           NaN        NaN    NaN  \n",
       "...         ...      ...      ...          ...           ...        ...    ...  \n",
       "16951      0.00      0.0     0.01         0.00           NaN        NaN    NaN  \n",
       "16952      0.00     0.01      0.0         0.00           NaN        NaN    NaN  \n",
       "16953      0.00      0.0     0.01         0.00           NaN        NaN    NaN  \n",
       "16954      0.01      0.0      0.0         0.00           NaN        NaN    NaN  \n",
       "16955      0.00      0.0     0.01         0.00           NaN        NaN    NaN  \n",
       "\n",
       "[16956 rows x 11 columns]"
      ]
     },
     "metadata": {},
     "output_type": "display_data"
    }
   ],
   "source": [
    "#df.columns\n",
    "display(games)"
   ]
  },
  {
   "cell_type": "markdown",
   "id": "69e39e67",
   "metadata": {},
   "source": [
    "<div class=\"alert alert-success\">\n",
    "<h2> Комментарий ревьюера <a class=\"tocSkip\"> </h2>\n",
    "\n",
    "👍 Верно и оптимально по переименованию.  Отлично, что делаешь проверку результата преобразования.\n",
    "\n"
   ]
  },
  {
   "cell_type": "markdown",
   "id": "830f2488",
   "metadata": {},
   "source": [
    "**Промежуточный вывод:**\n",
    "\n",
    "На данном этапе для дальнейшей удобной работы с данными датафрейма названия столбцов преобразованы в стиль написания snake case."
   ]
  },
  {
   "cell_type": "markdown",
   "id": "41bc6bf8",
   "metadata": {
    "id": "41bc6bf8"
   },
   "source": [
    "### 2.2. Типы данных\n",
    "\n",
    "- Если встречаются некорректные типы данных, предположите их причины.\n",
    "- При необходимости проведите преобразование типов данных. Помните, что столбцы с числовыми данными и пропусками нельзя преобразовать к типу `int64`. Сначала вам понадобится обработать пропуски, а затем преобразовать типы данных."
   ]
  },
  {
   "cell_type": "markdown",
   "id": "70d97c83",
   "metadata": {
    "id": "8adaac81"
   },
   "source": [
    "Некорректные типы данных могут быть вызваны различными причинами.\n",
    "\n",
    "Например, можно предположить, что столбец year_of_release заполнялся неопытным человеком, из-за пропусков в числовых данных столбец автоматически приобрел тип `float64` (так как NaN относится к этому типу) или это особенности определенного метода (dt.year), с помощью которого формировался этот столбец, поэтому от типа `datetime64` данные преобразовались во `float64`. В столбцах с продажами `eu_sales` и `jp_sales` тип данных определен как *object*, возможно, отсутствующие данные обозначались строкой *unknown* или чем-то подобным, поэтому получился столбец со смешанными типами данных, отчего он определился как *object*. Аналогичная ситуация и с данными в столбце `user_score`.\n",
    "\n",
    "Попробуем привести данные к нужным типам, пользуясь методом to_numeric:\n",
    "\n",
    "(параметр `errors='coerce'` используется для того, чтобы в случае наличия в столбцах строковых данных, они преобразовались в пропуски NaN)"
   ]
  },
  {
   "cell_type": "code",
   "execution_count": 11,
   "id": "e8412c01",
   "metadata": {
    "id": "e8412c01"
   },
   "outputs": [],
   "source": [
    "for column in ['year_of_release', 'eu_sales', 'jp_sales', 'user_score']:\n",
    "    games[column] = pd.to_numeric(games[column], errors='coerce')"
   ]
  },
  {
   "cell_type": "markdown",
   "id": "537bfada",
   "metadata": {},
   "source": [
    "<div class=\"alert alert-success\">\n",
    "<h2> Комментарий ревьюера <a class=\"tocSkip\"> </h2>\n",
    "\n",
    "👍 Отлично. Также можно использовать apply, чтобы написать все в одну строку:\n",
    "    \n",
    "`df[['eu_sales', 'jp_sales','user_score']] = df[['eu_sales', 'jp_sales','user_score']].apply(pd.to_numeric, errors='coerce')`\n",
    "\n"
   ]
  },
  {
   "cell_type": "markdown",
   "id": "9e2a1de7",
   "metadata": {
    "id": "9e53cff4"
   },
   "source": [
    "Проверим типы данных обновленных столбцов:"
   ]
  },
  {
   "cell_type": "code",
   "execution_count": 12,
   "id": "7f97f2c8",
   "metadata": {
    "id": "63378edf"
   },
   "outputs": [
    {
     "data": {
      "text/plain": [
       "name                object\n",
       "platform            object\n",
       "year_of_release    float64\n",
       "genre               object\n",
       "na_sales           float64\n",
       "eu_sales           float64\n",
       "jp_sales           float64\n",
       "other_sales        float64\n",
       "critic_score       float64\n",
       "user_score         float64\n",
       "rating              object\n",
       "dtype: object"
      ]
     },
     "execution_count": 12,
     "metadata": {},
     "output_type": "execute_result"
    }
   ],
   "source": [
    "games.dtypes"
   ]
  },
  {
   "cell_type": "markdown",
   "id": "2c72e519",
   "metadata": {
    "id": "5033ee32"
   },
   "source": [
    "Выведем первые 5 строк датафрейма:"
   ]
  },
  {
   "cell_type": "code",
   "execution_count": 13,
   "id": "3a26fb26",
   "metadata": {
    "id": "3a26fb26"
   },
   "outputs": [
    {
     "data": {
      "text/html": [
       "<div>\n",
       "<style scoped>\n",
       "    .dataframe tbody tr th:only-of-type {\n",
       "        vertical-align: middle;\n",
       "    }\n",
       "\n",
       "    .dataframe tbody tr th {\n",
       "        vertical-align: top;\n",
       "    }\n",
       "\n",
       "    .dataframe thead th {\n",
       "        text-align: right;\n",
       "    }\n",
       "</style>\n",
       "<table border=\"1\" class=\"dataframe\">\n",
       "  <thead>\n",
       "    <tr style=\"text-align: right;\">\n",
       "      <th></th>\n",
       "      <th>name</th>\n",
       "      <th>platform</th>\n",
       "      <th>year_of_release</th>\n",
       "      <th>genre</th>\n",
       "      <th>na_sales</th>\n",
       "      <th>eu_sales</th>\n",
       "      <th>jp_sales</th>\n",
       "      <th>other_sales</th>\n",
       "      <th>critic_score</th>\n",
       "      <th>user_score</th>\n",
       "      <th>rating</th>\n",
       "    </tr>\n",
       "  </thead>\n",
       "  <tbody>\n",
       "    <tr>\n",
       "      <th>0</th>\n",
       "      <td>Wii Sports</td>\n",
       "      <td>Wii</td>\n",
       "      <td>2006.0</td>\n",
       "      <td>Sports</td>\n",
       "      <td>41.36</td>\n",
       "      <td>28.96</td>\n",
       "      <td>3.77</td>\n",
       "      <td>8.45</td>\n",
       "      <td>76.0</td>\n",
       "      <td>8.0</td>\n",
       "      <td>E</td>\n",
       "    </tr>\n",
       "    <tr>\n",
       "      <th>1</th>\n",
       "      <td>Super Mario Bros.</td>\n",
       "      <td>NES</td>\n",
       "      <td>1985.0</td>\n",
       "      <td>Platform</td>\n",
       "      <td>29.08</td>\n",
       "      <td>3.58</td>\n",
       "      <td>6.81</td>\n",
       "      <td>0.77</td>\n",
       "      <td>NaN</td>\n",
       "      <td>NaN</td>\n",
       "      <td>NaN</td>\n",
       "    </tr>\n",
       "    <tr>\n",
       "      <th>2</th>\n",
       "      <td>Mario Kart Wii</td>\n",
       "      <td>Wii</td>\n",
       "      <td>2008.0</td>\n",
       "      <td>Racing</td>\n",
       "      <td>15.68</td>\n",
       "      <td>12.76</td>\n",
       "      <td>3.79</td>\n",
       "      <td>3.29</td>\n",
       "      <td>82.0</td>\n",
       "      <td>8.3</td>\n",
       "      <td>E</td>\n",
       "    </tr>\n",
       "    <tr>\n",
       "      <th>3</th>\n",
       "      <td>Wii Sports Resort</td>\n",
       "      <td>Wii</td>\n",
       "      <td>2009.0</td>\n",
       "      <td>Sports</td>\n",
       "      <td>15.61</td>\n",
       "      <td>10.93</td>\n",
       "      <td>3.28</td>\n",
       "      <td>2.95</td>\n",
       "      <td>80.0</td>\n",
       "      <td>8.0</td>\n",
       "      <td>E</td>\n",
       "    </tr>\n",
       "    <tr>\n",
       "      <th>4</th>\n",
       "      <td>Pokemon Red/Pokemon Blue</td>\n",
       "      <td>GB</td>\n",
       "      <td>1996.0</td>\n",
       "      <td>Role-Playing</td>\n",
       "      <td>11.27</td>\n",
       "      <td>8.89</td>\n",
       "      <td>10.22</td>\n",
       "      <td>1.00</td>\n",
       "      <td>NaN</td>\n",
       "      <td>NaN</td>\n",
       "      <td>NaN</td>\n",
       "    </tr>\n",
       "  </tbody>\n",
       "</table>\n",
       "</div>"
      ],
      "text/plain": [
       "                       name platform  year_of_release         genre  na_sales  \\\n",
       "0                Wii Sports      Wii           2006.0        Sports     41.36   \n",
       "1         Super Mario Bros.      NES           1985.0      Platform     29.08   \n",
       "2            Mario Kart Wii      Wii           2008.0        Racing     15.68   \n",
       "3         Wii Sports Resort      Wii           2009.0        Sports     15.61   \n",
       "4  Pokemon Red/Pokemon Blue       GB           1996.0  Role-Playing     11.27   \n",
       "\n",
       "   eu_sales  jp_sales  other_sales  critic_score  user_score rating  \n",
       "0     28.96      3.77         8.45          76.0         8.0      E  \n",
       "1      3.58      6.81         0.77           NaN         NaN    NaN  \n",
       "2     12.76      3.79         3.29          82.0         8.3      E  \n",
       "3     10.93      3.28         2.95          80.0         8.0      E  \n",
       "4      8.89     10.22         1.00           NaN         NaN    NaN  "
      ]
     },
     "execution_count": 13,
     "metadata": {},
     "output_type": "execute_result"
    }
   ],
   "source": [
    "games.head()"
   ]
  },
  {
   "cell_type": "markdown",
   "id": "35d850a8",
   "metadata": {
    "id": "11003d69"
   },
   "source": [
    "**Промежуточный вывод:**\n",
    "\n",
    "На данном этапе отмечены возможные причины неправильного определения типов данных, осуществлено их успешное промежуточное преобразование, при этом возможные встречи текстовых данных в столбцах с числами ликвидированы.\n",
    "\n",
    "Дополнительные замечания: требуется более детальная работа с пропусками, их возможное удаление или минимизация."
   ]
  },
  {
   "cell_type": "markdown",
   "id": "1176c682",
   "metadata": {},
   "source": [
    "<div class=\"alert alert-success\">\n",
    "<h2> Комментарий ревьюера <a class=\"tocSkip\"> </h2>\n",
    "\n",
    "👍 Все верно.\n",
    "    \n",
    "Замечательно по оформлению и по аргументации."
   ]
  },
  {
   "cell_type": "markdown",
   "id": "b39893cb",
   "metadata": {
    "id": "b39893cb"
   },
   "source": [
    "### 2.3. Наличие пропусков в данных\n",
    "\n",
    "Посчитаем количество пропусков в каждом столбце в абсолютных и относительных значениях.\n"
   ]
  },
  {
   "cell_type": "code",
   "execution_count": 14,
   "id": "0f1c91a8",
   "metadata": {
    "id": "0f1c91a8"
   },
   "outputs": [
    {
     "data": {
      "text/plain": [
       "name                  2\n",
       "platform              0\n",
       "year_of_release     275\n",
       "genre                 2\n",
       "na_sales              0\n",
       "eu_sales              6\n",
       "jp_sales              4\n",
       "other_sales           0\n",
       "critic_score       8714\n",
       "user_score         9268\n",
       "rating             6871\n",
       "dtype: int64"
      ]
     },
     "execution_count": 14,
     "metadata": {},
     "output_type": "execute_result"
    }
   ],
   "source": [
    "games.isna().sum()"
   ]
  },
  {
   "cell_type": "code",
   "execution_count": 15,
   "id": "86cd1cc1",
   "metadata": {
    "id": "86cd1cc1"
   },
   "outputs": [
    {
     "data": {
      "text/plain": [
       "name               0.000118\n",
       "platform           0.000000\n",
       "year_of_release    0.016218\n",
       "genre              0.000118\n",
       "na_sales           0.000000\n",
       "eu_sales           0.000354\n",
       "jp_sales           0.000236\n",
       "other_sales        0.000000\n",
       "critic_score       0.513918\n",
       "user_score         0.546591\n",
       "rating             0.405225\n",
       "dtype: float64"
      ]
     },
     "execution_count": 15,
     "metadata": {},
     "output_type": "execute_result"
    }
   ],
   "source": [
    "games.isna().sum() / games.shape[0]"
   ]
  },
  {
   "cell_type": "markdown",
   "id": "0df34b1c",
   "metadata": {
    "id": "247a6cf7"
   },
   "source": [
    "Наибольшее число пропусков характерно для столбцов `user_score` (54,7%), `critic_score` (51,4% от всех данных), `rating` (40,5%). Совсем мало пропусков имеет столбец `year_of_release` - всего 1,6% от всего объема датафрейма, а также от 2 до 6 пропусков (из 16956 строк датафрейма) наблюдаются в `name`, `genre` и `eu_sales`, `jp_sales`.\n",
    "\n",
    "Можно предположить, что в данных представлена информация об играх за период, когда рейтинги от пользователей или критиков не собирались, поэтому имеется много пропусков в колонках, относящихся к этим данным. Пропуски в столбце `rating` можно объяснить тем, что организация ESRB начала выдавать рейтинги играм только в 1994 году, а, как уже было сказано, в датафрейме имеются даннные за периоды, предшествовавшие этому. Некоторые игры могли разрабатываться, но в итоге так и не быть представлеными публике - так, предположительно, описывается незначительно число незаполненных данных в столбеце с датой релиза.\n",
    "\n",
    "Можно проверить наиболее ранний год выпуска игры в имеющихся данных, чтобы быть уверенным в своих предположениях:"
   ]
  },
  {
   "cell_type": "markdown",
   "id": "c659560c",
   "metadata": {},
   "source": [
    "<div class=\"alert alert-success\">\n",
    "<h2> Комментарий ревьюера <a class=\"tocSkip\"> </h2>\n",
    "\n",
    "👍 Согласен с тобой. Думаю, здесь может быть гипотеза в том, что для слишком старых игр или для игр из других регионов, не переведенных на английский язык, не существует достаточного количества оценок критиков и пользователей по естественным причинам. \n",
    "\n"
   ]
  },
  {
   "cell_type": "markdown",
   "id": "cf796f51",
   "metadata": {
    "id": "cf796f51"
   },
   "source": [
    "- Изучите данные с пропущенными значениями. Напишите промежуточный вывод: для каких столбцов характерны пропуски и сколько их. Предположите, почему пропуски могли возникнуть. Укажите, какие действия с этими данными можно сделать и почему.\n"
   ]
  },
  {
   "cell_type": "code",
   "execution_count": 16,
   "id": "bd69e642",
   "metadata": {
    "id": "bd69e642"
   },
   "outputs": [
    {
     "data": {
      "text/plain": [
       "array([2.896e+01, 3.580e+00, 1.276e+01, 1.093e+01, 8.890e+00, 2.260e+00,\n",
       "       9.140e+00, 9.180e+00, 6.940e+00, 6.300e-01, 1.095e+01, 7.470e+00,\n",
       "       6.180e+00, 8.030e+00, 4.890e+00, 8.490e+00, 9.090e+00, 4.000e-01,\n",
       "       3.750e+00, 9.200e+00, 4.460e+00, 2.710e+00, 3.440e+00, 5.140e+00,\n",
       "       5.490e+00, 3.900e+00, 5.350e+00, 3.170e+00, 5.090e+00, 4.240e+00,\n",
       "       5.040e+00, 5.860e+00, 3.680e+00, 4.190e+00, 5.730e+00, 3.590e+00,\n",
       "       4.510e+00, 2.550e+00, 4.020e+00, 4.370e+00, 6.310e+00, 3.450e+00,\n",
       "       2.810e+00, 2.850e+00, 3.490e+00, 1.000e-02, 3.350e+00, 2.040e+00,\n",
       "       3.070e+00, 3.870e+00, 3.000e+00, 4.820e+00, 3.640e+00, 2.150e+00,\n",
       "       3.690e+00, 2.650e+00, 2.560e+00, 3.110e+00, 3.140e+00, 1.940e+00,\n",
       "       1.950e+00, 2.470e+00, 2.280e+00, 3.420e+00, 3.630e+00, 2.360e+00,\n",
       "       1.710e+00, 1.850e+00, 2.790e+00, 1.240e+00, 6.120e+00, 1.530e+00,\n",
       "       3.470e+00, 2.240e+00, 5.010e+00, 2.010e+00, 1.720e+00, 2.070e+00,\n",
       "       6.420e+00, 3.860e+00, 4.500e-01, 3.480e+00, 1.890e+00, 5.750e+00,\n",
       "       2.170e+00, 1.370e+00, 2.350e+00, 1.180e+00, 2.110e+00, 1.880e+00,\n",
       "       2.830e+00, 2.990e+00, 2.890e+00, 3.270e+00, 2.220e+00, 2.140e+00,\n",
       "       1.450e+00, 1.750e+00, 1.040e+00, 1.770e+00, 3.020e+00, 2.750e+00,\n",
       "       2.160e+00, 1.900e+00, 2.590e+00, 2.200e+00, 4.300e+00, 9.300e-01,\n",
       "       2.530e+00, 2.520e+00, 1.790e+00, 1.300e+00, 2.600e+00, 1.580e+00,\n",
       "       1.200e+00, 1.560e+00, 1.340e+00, 1.260e+00, 8.300e-01, 6.210e+00,\n",
       "       2.800e+00, 1.590e+00, 1.730e+00, 4.330e+00, 1.830e+00, 0.000e+00,\n",
       "       2.180e+00, 1.980e+00, 1.470e+00, 6.700e-01, 1.550e+00, 1.910e+00,\n",
       "       6.900e-01, 6.000e-01, 1.930e+00, 1.640e+00, 5.500e-01, 2.190e+00,\n",
       "       1.110e+00, 2.290e+00, 2.500e+00, 9.600e-01, 1.210e+00, 1.120e+00,\n",
       "       7.700e-01, 1.690e+00, 1.080e+00, 7.900e-01, 2.370e+00, 2.460e+00,\n",
       "       2.600e-01, 7.500e-01, 1.250e+00, 2.430e+00, 9.800e-01, 7.400e-01,\n",
       "       2.230e+00, 6.100e-01, 2.450e+00, 1.410e+00, 1.800e+00, 3.280e+00,\n",
       "       1.160e+00, 1.990e+00, 1.380e+00, 1.360e+00, 1.170e+00, 1.190e+00,\n",
       "       9.900e-01, 1.680e+00, 2.000e+00, 1.330e+00, 1.570e+00, 1.480e+00,\n",
       "       2.100e+00, 1.270e+00, 1.970e+00, 9.100e-01, 1.390e+00, 1.960e+00,\n",
       "       2.400e-01, 1.510e+00, 1.400e-01, 1.290e+00, 2.390e+00, 1.030e+00,\n",
       "       5.000e-01, 5.800e-01, 1.310e+00, 2.020e+00, 1.320e+00, 1.010e+00,\n",
       "       2.270e+00, 2.300e+00, 1.820e+00, 2.780e+00, 4.400e-01, 4.800e-01,\n",
       "       2.700e-01, 2.100e-01, 2.480e+00, 5.100e-01, 1.520e+00, 4.000e-02,\n",
       "       2.800e-01, 1.350e+00, 8.700e-01, 2.130e+00, 1.130e+00, 1.760e+00,\n",
       "       7.600e-01, 2.120e+00, 6.600e-01, 1.600e+00, 1.440e+00, 1.430e+00,\n",
       "       1.700e+00, 4.700e-01, 1.870e+00, 8.600e-01, 7.300e-01, 1.280e+00,\n",
       "       8.100e-01, 1.090e+00, 6.800e-01, 1.220e+00, 1.400e+00, 1.020e+00,\n",
       "       1.490e+00, 1.140e+00, 4.900e-01, 9.000e-01, 3.800e-01, 1.420e+00,\n",
       "       9.500e-01, 1.620e+00, 7.100e-01, 1.050e+00, 9.200e-01, 3.300e-01,\n",
       "       3.000e-01, 1.670e+00, 1.000e+00, 8.900e-01, 1.000e-01, 7.200e-01,\n",
       "       5.900e-01, 5.600e-01, 1.600e-01, 9.700e-01, 6.200e-01,       nan,\n",
       "       8.500e-01, 9.400e-01, 8.800e-01, 8.400e-01, 1.060e+00, 2.000e-01,\n",
       "       1.150e+00, 8.000e-01, 1.100e+00, 7.000e-01, 1.920e+00, 3.200e-01,\n",
       "       1.500e-01, 5.300e-01, 9.000e-02, 1.460e+00, 2.900e-01, 2.200e-01,\n",
       "       1.230e+00, 7.000e-02, 1.700e-01, 5.400e-01, 3.600e-01, 3.100e-01,\n",
       "       1.840e+00, 5.200e-01, 1.100e-01, 6.400e-01, 1.200e-01, 2.050e+00,\n",
       "       1.630e+00, 8.200e-01, 8.000e-02, 5.700e-01, 1.650e+00, 1.900e-01,\n",
       "       2.000e-02, 4.300e-01, 2.500e-01, 1.500e+00, 1.800e-01, 3.900e-01,\n",
       "       1.300e-01, 1.070e+00, 4.600e-01, 4.100e-01, 6.000e-02, 3.000e-02,\n",
       "       3.700e-01, 5.000e-02, 2.300e-01, 6.500e-01, 4.200e-01, 3.400e-01,\n",
       "       3.500e-01, 7.800e-01])"
      ]
     },
     "execution_count": 16,
     "metadata": {},
     "output_type": "execute_result"
    }
   ],
   "source": [
    "games['eu_sales'].unique()"
   ]
  },
  {
   "cell_type": "markdown",
   "id": "cbaf839b",
   "metadata": {},
   "source": [
    "<div class=\"alert alert-warning\">\n",
    "<h2> Комментарий ревьюера <a class=\"tocSkip\"> </h2>\n",
    "    \n",
    "<b>Некоторые замечания и рекомендации💡:</b> \n",
    "    \n",
    "Количественные признаки лучше не выводить сплошняком на принт. Оно бесполезно для анализа и больно для глаз.\n",
    "    \n",
    "Такие ряды чисел называются простынями и являются визуальным мусором. В финальном проекте лучше его не оставлять. В дальнейших проектах для анализа количественных признаков будем строить гистограммы."
   ]
  },
  {
   "cell_type": "code",
   "execution_count": 17,
   "id": "b6965b19",
   "metadata": {
    "id": "b6965b19"
   },
   "outputs": [
    {
     "data": {
      "text/plain": [
       "array([3.770e+00, 6.810e+00, 3.790e+00, 3.280e+00, 1.022e+01, 4.220e+00,\n",
       "       6.500e+00, 2.930e+00, 4.700e+00, 2.800e-01, 1.930e+00, 4.130e+00,\n",
       "       7.200e+00, 3.600e+00, 2.400e-01, 2.530e+00, 9.800e-01, 4.100e-01,\n",
       "       3.540e+00, 4.160e+00, 6.040e+00, 4.180e+00, 3.840e+00, 6.000e-02,\n",
       "       4.700e-01, 5.380e+00, 5.320e+00, 5.650e+00, 1.870e+00, 1.300e-01,\n",
       "       3.120e+00, 3.600e-01, 1.100e-01, 4.350e+00, 6.500e-01, 7.000e-02,\n",
       "       8.000e-02, 4.900e-01, 3.000e-01, 2.660e+00, 2.690e+00, 4.800e-01,\n",
       "       3.800e-01, 5.330e+00, 1.910e+00, 3.960e+00, 3.100e+00, 1.100e+00,\n",
       "       1.200e+00, 1.400e-01, 2.540e+00, 2.140e+00, 8.100e-01, 2.120e+00,\n",
       "       4.400e-01, 3.150e+00, 1.250e+00, 4.000e-02, 0.000e+00, 2.470e+00,\n",
       "       2.230e+00, 1.690e+00, 1.000e-02, 3.000e+00, 2.000e-02, 4.390e+00,\n",
       "       1.980e+00, 1.000e-01, 3.810e+00, 5.000e-02, 2.490e+00, 1.580e+00,\n",
       "       3.140e+00, 2.730e+00, 6.600e-01, 2.200e-01, 3.630e+00, 1.450e+00,\n",
       "       1.310e+00, 2.430e+00, 7.000e-01, 3.500e-01, 1.400e+00, 6.000e-01,\n",
       "       2.260e+00, 1.420e+00, 1.280e+00, 1.390e+00, 8.700e-01, 1.700e-01,\n",
       "       9.400e-01, 1.900e-01, 2.100e-01, 1.600e+00, 1.600e-01, 1.030e+00,\n",
       "       2.500e-01, 2.060e+00, 1.490e+00, 1.290e+00, 9.000e-02, 2.870e+00,\n",
       "       3.000e-02, 7.800e-01, 8.300e-01, 2.330e+00, 2.020e+00, 1.360e+00,\n",
       "       1.810e+00, 1.970e+00, 9.100e-01, 9.900e-01, 9.500e-01, 2.000e+00,\n",
       "       1.010e+00, 2.780e+00, 2.110e+00, 1.090e+00, 2.000e-01, 1.900e+00,\n",
       "       1.270e+00, 3.610e+00, 1.570e+00, 2.200e+00, 1.700e+00, 1.080e+00,\n",
       "       1.500e-01, 1.110e+00, 2.900e-01, 1.540e+00, 1.200e-01, 8.900e-01,\n",
       "       4.870e+00, 1.520e+00, 1.320e+00, 1.150e+00, 4.100e+00, 1.460e+00,\n",
       "       4.600e-01, 1.050e+00, 1.610e+00, 2.600e-01, 1.380e+00, 6.200e-01,\n",
       "       7.300e-01, 5.700e-01, 3.100e-01, 5.800e-01, 1.760e+00, 2.100e+00,\n",
       "       9.000e-01, 5.100e-01, 6.400e-01, 2.460e+00, 2.300e-01, 3.700e-01,\n",
       "       9.200e-01, 1.070e+00, 2.620e+00, 1.120e+00, 5.400e-01, 2.700e-01,\n",
       "       5.900e-01, 3.670e+00, 5.500e-01, 1.750e+00, 3.440e+00, 3.300e-01,\n",
       "       2.550e+00, 2.320e+00, 2.790e+00, 7.400e-01, 3.180e+00, 8.200e-01,\n",
       "       7.700e-01, 4.000e-01, 2.350e+00, 3.190e+00, 8.000e-01, 7.600e-01,\n",
       "       3.030e+00, 8.800e-01,       nan, 4.500e-01, 1.160e+00, 3.400e-01,\n",
       "       1.190e+00, 1.130e+00, 2.130e+00, 1.960e+00, 7.100e-01, 1.040e+00,\n",
       "       2.680e+00, 6.800e-01, 2.650e+00, 9.600e-01, 2.410e+00, 5.200e-01,\n",
       "       1.800e-01, 1.340e+00, 1.480e+00, 2.340e+00, 1.060e+00, 1.210e+00,\n",
       "       2.290e+00, 1.630e+00, 2.050e+00, 2.170e+00, 1.560e+00, 1.350e+00,\n",
       "       1.330e+00, 6.300e-01, 7.900e-01, 7.500e-01, 5.300e-01, 1.530e+00,\n",
       "       1.300e+00, 3.900e-01, 6.900e-01, 4.200e-01, 9.300e-01, 5.600e-01,\n",
       "       8.400e-01, 7.200e-01, 3.200e-01, 1.710e+00, 1.650e+00, 6.100e-01,\n",
       "       1.510e+00, 1.500e+00, 1.440e+00, 1.240e+00, 1.180e+00, 1.370e+00,\n",
       "       1.000e+00, 1.260e+00, 8.500e-01, 4.300e-01, 6.700e-01, 1.140e+00,\n",
       "       8.600e-01, 1.170e+00, 5.000e-01, 1.020e+00, 9.700e-01])"
      ]
     },
     "execution_count": 17,
     "metadata": {},
     "output_type": "execute_result"
    }
   ],
   "source": [
    "games['jp_sales'].unique()"
   ]
  },
  {
   "cell_type": "markdown",
   "id": "61876a69",
   "metadata": {
    "id": "cc2d1374"
   },
   "source": [
    "Вывод состоит в том, что в столбцах с продажами по Европе и Японии не содержится аномальных и отрицательных значений, а также строк. Можно переходить к обработке пропусков в этих столбцах."
   ]
  },
  {
   "cell_type": "markdown",
   "id": "bbbe3bda",
   "metadata": {
    "id": "bbbe3bda"
   },
   "source": [
    "- Обработайте пропущенные значения. Для каждого случая вы можете выбрать оптимальный, на ваш взгляд, вариант: заменить на определённое значение, оставить как есть или удалить.\n",
    "- Если вы решите заменить пропуски на значение-индикатор, то убедитесь, что предложенное значение не может быть использовано в данных.\n",
    "- Если вы нашли пропуски в данных с количеством проданных копий игры в том или ином регионе, их можно заменить на среднее значение в зависимости от названия платформы и года выхода игры."
   ]
  },
  {
   "cell_type": "code",
   "execution_count": 18,
   "id": "154be65d",
   "metadata": {
    "id": "154be65d"
   },
   "outputs": [
    {
     "data": {
      "text/plain": [
       "1980.0"
      ]
     },
     "execution_count": 18,
     "metadata": {},
     "output_type": "execute_result"
    }
   ],
   "source": [
    "games['year_of_release'].min()"
   ]
  },
  {
   "cell_type": "markdown",
   "id": "094ccb52",
   "metadata": {
    "id": "3f42817b"
   },
   "source": [
    "Пропуски в столбцах `name`, `genre` можно удалить, так как их количество относительно всего датафрейма очень мало, менее 1%, это не повлияет на дальнейшую обработку данных."
   ]
  },
  {
   "cell_type": "code",
   "execution_count": 19,
   "id": "2784c760",
   "metadata": {
    "id": "2784c760"
   },
   "outputs": [],
   "source": [
    "games = games.dropna(subset=['name'])\n",
    "games = games.dropna(subset=['genre'])"
   ]
  },
  {
   "cell_type": "markdown",
   "id": "fbfd05ca",
   "metadata": {},
   "source": [
    "<div class=\"alert alert-success\">\n",
    "<h2> Комментарий ревьюера <a class=\"tocSkip\"> </h2>\n",
    "\n",
    "👍 "
   ]
  },
  {
   "cell_type": "markdown",
   "id": "1cfa2863",
   "metadata": {},
   "source": [
    "Пропуски в столбцах `eu_sales` и `jp_sales` заменим на среднее значение в зависимости от названия платформы и года выхода игры."
   ]
  },
  {
   "cell_type": "code",
   "execution_count": 20,
   "id": "4963d793",
   "metadata": {},
   "outputs": [],
   "source": [
    "mean_sales = games.groupby(['year_of_release', 'platform'])['eu_sales'].transform('mean')\n",
    "games['eu_sales'] = games['eu_sales'].fillna(mean_sales)\n",
    "\n",
    "mean_sales_jp = games.groupby(['year_of_release', 'platform'])['jp_sales'].transform('mean')\n",
    "games['jp_sales'] = games['jp_sales'].fillna(mean_sales_jp)"
   ]
  },
  {
   "cell_type": "markdown",
   "id": "a25c3a9a",
   "metadata": {},
   "source": [
    "<div class=\"alert alert-success\">\n",
    "<h2> Комментарий ревьюера <a class=\"tocSkip\"> </h2>\n",
    "\n",
    "👍 Оптимальное решение."
   ]
  },
  {
   "cell_type": "markdown",
   "id": "ea143611",
   "metadata": {},
   "source": [
    "Пропуски в столбце с датой релиза `year_of_release` оставляем пропуски в их изначальном варианте."
   ]
  },
  {
   "cell_type": "markdown",
   "id": "9db2f54f",
   "metadata": {},
   "source": [
    "Пропуски в столбцах `user_score` и `critic_score` заменим на -1, что будет означать отсутствие пользовательских или критических отзывов."
   ]
  },
  {
   "cell_type": "code",
   "execution_count": 21,
   "id": "de4e0e12",
   "metadata": {},
   "outputs": [],
   "source": [
    "games['user_score'] = games['user_score'].fillna(-1)\n",
    "games['critic_score'] = games['critic_score'].fillna(-1)"
   ]
  },
  {
   "cell_type": "markdown",
   "id": "df8e4cfb",
   "metadata": {},
   "source": [
    "<div class=\"alert alert-success\">\n",
    "<h2> Комментарий ревьюера <a class=\"tocSkip\"> </h2>\n",
    "\n",
    "👍 "
   ]
  },
  {
   "cell_type": "markdown",
   "id": "6496f6a3",
   "metadata": {},
   "source": [
    "Пропуски в столбце с рейтингом ESRB `rating` можно заменить на пустую строку, так как в столбце содержится строковый тип данных."
   ]
  },
  {
   "cell_type": "code",
   "execution_count": 22,
   "id": "5bfcafe5",
   "metadata": {},
   "outputs": [],
   "source": [
    "games['rating'] = games['rating'].fillna('')"
   ]
  },
  {
   "cell_type": "markdown",
   "id": "529e3f91",
   "metadata": {},
   "source": [
    "<div class=\"alert alert-success\">\n",
    "<h2> Комментарий ревьюера <a class=\"tocSkip\"> </h2>\n",
    "\n",
    "👍 В строковом типе у нас есть возможность заполнить пропуски строкой с чем-то осмысленным и человекочитаемым. Обычно пишут «неизвестно» или «unknown» или просто «unk»."
   ]
  },
  {
   "cell_type": "markdown",
   "id": "d478f34a",
   "metadata": {},
   "source": [
    "Проверим наличие пропусков в обновленном датафрейме:"
   ]
  },
  {
   "cell_type": "code",
   "execution_count": 23,
   "id": "77215061",
   "metadata": {},
   "outputs": [
    {
     "data": {
      "text/plain": [
       "name                 0\n",
       "platform             0\n",
       "year_of_release    275\n",
       "genre                0\n",
       "na_sales             0\n",
       "eu_sales             0\n",
       "jp_sales             0\n",
       "other_sales          0\n",
       "critic_score         0\n",
       "user_score           0\n",
       "rating               0\n",
       "dtype: int64"
      ]
     },
     "execution_count": 23,
     "metadata": {},
     "output_type": "execute_result"
    }
   ],
   "source": [
    "games.isna().sum()"
   ]
  },
  {
   "cell_type": "markdown",
   "id": "4a7a6079",
   "metadata": {},
   "source": [
    "**Промежуточный вывод:**\n",
    "\n",
    "На данном этапе проведена обработка пропусков, отсутствующие значения заменились на подходящие по логике индикаторы."
   ]
  },
  {
   "cell_type": "markdown",
   "id": "923e01ea",
   "metadata": {},
   "source": [
    "<div class=\"alert alert-success\">\n",
    "<h2> Комментарий ревьюера <a class=\"tocSkip\"> </h2>\n",
    "\n",
    "👍 В целом можем остаивть пропуски в годе как есть, а можно и удалить.\n",
    "    \n",
    "Тогда тоже можно все дропнуть одной строкой `df = df.dropna(subset=[‘year_of_Release','name', 'genre'])`"
   ]
  },
  {
   "cell_type": "markdown",
   "id": "a63363fd",
   "metadata": {
    "id": "a63363fd"
   },
   "source": [
    "### 2.4. Явные и неявные дубликаты в данных\n",
    "\n",
    "- Изучите уникальные значения в категориальных данных, например с названиями жанра игры, платформы, рейтинга и года выпуска. Проверьте, встречаются ли среди данных неявные дубликаты, связанные с опечатками или разным способом написания.\n",
    "- При необходимости проведите нормализацию данных с текстовыми значениями. Названия или жанры игр можно привести к нижнему регистру, а названия рейтинга — к верхнему."
   ]
  },
  {
   "cell_type": "code",
   "execution_count": 24,
   "id": "491c9c39",
   "metadata": {
    "id": "491c9c39"
   },
   "outputs": [
    {
     "name": "stdout",
     "output_type": "stream",
     "text": [
      "Список лет выпуска игр:\n",
      " [1980. 1981. 1982. 1983. 1984. 1985. 1986. 1987. 1988. 1989. 1990. 1991.\n",
      " 1992. 1993. 1994. 1995. 1996. 1997. 1998. 1999. 2000. 2001. 2002. 2003.\n",
      " 2004. 2005. 2006. 2007. 2008. 2009. 2010. 2011. 2012. 2013. 2014. 2015.\n",
      " 2016.   nan]\n",
      "Количество уникальных позиций: 37\n"
     ]
    }
   ],
   "source": [
    "print('Список лет выпуска игр:\\n', games['year_of_release'].sort_values().unique())\n",
    "print('Количество уникальных позиций:', games['year_of_release'].nunique())"
   ]
  },
  {
   "cell_type": "code",
   "execution_count": 25,
   "id": "f1627198",
   "metadata": {
    "id": "f1627198"
   },
   "outputs": [
    {
     "name": "stdout",
     "output_type": "stream",
     "text": [
      "Список игровых платформ:\n",
      " ['Wii' 'NES' 'GB' 'DS' 'X360' 'PS3' 'PS2' 'SNES' 'GBA' 'PS4' '3DS' 'N64'\n",
      " 'PS' 'XB' 'PC' '2600' 'PSP' 'XOne' 'WiiU' 'GC' 'GEN' 'DC' 'PSV' 'SAT'\n",
      " 'SCD' 'WS' 'NG' 'TG16' '3DO' 'GG' 'PCFX']\n",
      "Количество уникальных позиций: 31\n"
     ]
    }
   ],
   "source": [
    "print('Список игровых платформ:\\n', games['platform'].unique())\n",
    "print('Количество уникальных позиций:', games['platform'].nunique())"
   ]
  },
  {
   "cell_type": "code",
   "execution_count": 26,
   "id": "a0cac80c",
   "metadata": {
    "id": "a0cac80c"
   },
   "outputs": [
    {
     "name": "stdout",
     "output_type": "stream",
     "text": [
      "Список жанров:\n",
      " ['Sports' 'Platform' 'Racing' 'Role-Playing' 'Puzzle' 'Misc' 'Shooter'\n",
      " 'Simulation' 'Action' 'Fighting' 'Adventure' 'Strategy' 'MISC'\n",
      " 'ROLE-PLAYING' 'RACING' 'ACTION' 'SHOOTER' 'FIGHTING' 'SPORTS' 'PLATFORM'\n",
      " 'ADVENTURE' 'SIMULATION' 'PUZZLE' 'STRATEGY']\n",
      "Количество уникальных позиций: 24\n"
     ]
    }
   ],
   "source": [
    "print('Список жанров:\\n', games['genre'].unique())\n",
    "print('Количество уникальных позиций:', games['genre'].nunique())"
   ]
  },
  {
   "cell_type": "markdown",
   "id": "fc3d3db4",
   "metadata": {
    "id": "fc3d3db4"
   },
   "source": [
    "Сохраним количество уникальных позиций до предобработки дубликатов:"
   ]
  },
  {
   "cell_type": "code",
   "execution_count": 27,
   "id": "fc5c91b5",
   "metadata": {
    "id": "fc5c91b5"
   },
   "outputs": [],
   "source": [
    "genre_prev_cnt = games['genre'].nunique()"
   ]
  },
  {
   "cell_type": "code",
   "execution_count": 28,
   "id": "2f61e076",
   "metadata": {
    "id": "2f61e076"
   },
   "outputs": [
    {
     "name": "stdout",
     "output_type": "stream",
     "text": [
      "Список рейтинга ESRB:\n",
      " ['E' '' 'M' 'T' 'E10+' 'K-A' 'AO' 'EC' 'RP']\n",
      "Количество уникальных позиций: 9\n"
     ]
    }
   ],
   "source": [
    "print('Список рейтинга ESRB:\\n', games['rating'].unique())\n",
    "print('Количество уникальных позиций:', games['rating'].nunique())"
   ]
  },
  {
   "cell_type": "markdown",
   "id": "7e19d911",
   "metadata": {},
   "source": [
    " <div class=\"alert alert-warning\">\n",
    "<h2> Комментарий ревьюера <a class=\"tocSkip\"> </h2>\n",
    "    \n",
    "<b>Некоторые замечания и рекомендации💡:</b> \n",
    "\n",
    "Здесь хитрая ситуация с rating. У нас есть игры как из Европы, так и из Азии. В основном используется рейтинг ESRB https://ru.wikipedia.org/wiki/Entertainment_Software_Rating_Board \n",
    "    \n",
    "Но некоторых категорий из представленных у нас в нем нет. Фактически, это сходные категории, но в другом обозначении.\n",
    "    \n",
    "Например, можно заменить значения 'К-А' на 'Е'.\n",
    "    \n",
    "Рекомендую в подобных случаях уточнять информацию в интернете (в реальных проектах на реальной работе также, ну и можно всегда спрашивать у коллег, особенно у тех, кто предоставил данные. Часто такие категории объясняются в паспорте данных. Ну в нашем случае нужно залезть в интернет). \n",
    "\n"
   ]
  },
  {
   "cell_type": "markdown",
   "id": "f91ad3c3",
   "metadata": {
    "id": "29e57705"
   },
   "source": [
    "*Замечание:* в столбце `genre` имеются неявные дубликаты: один и те же позиции дублируются в нижнем и верхнем регистрах, поэтому требуется провести их нормализацию. Приведем данные в этом столбце к нижнему регистру:"
   ]
  },
  {
   "cell_type": "code",
   "execution_count": 29,
   "id": "6472e9e2",
   "metadata": {
    "id": "54616bae"
   },
   "outputs": [],
   "source": [
    "games['genre'] = games['genre'].str.lower()"
   ]
  },
  {
   "cell_type": "markdown",
   "id": "4d43d1f0",
   "metadata": {
    "id": "8548f894"
   },
   "source": [
    "После изменения регистра выведем новый список уникальных значений и их количество:"
   ]
  },
  {
   "cell_type": "code",
   "execution_count": 30,
   "id": "327e55bb",
   "metadata": {
    "id": "327e55bb"
   },
   "outputs": [
    {
     "name": "stdout",
     "output_type": "stream",
     "text": [
      "Список жанров:\n",
      " ['sports' 'platform' 'racing' 'role-playing' 'puzzle' 'misc' 'shooter'\n",
      " 'simulation' 'action' 'fighting' 'adventure' 'strategy']\n",
      "Количество уникальных позиций: 12\n"
     ]
    }
   ],
   "source": [
    "print('Список жанров:\\n', games['genre'].unique())\n",
    "print('Количество уникальных позиций:', games['genre'].nunique())"
   ]
  },
  {
   "cell_type": "markdown",
   "id": "9f60f892",
   "metadata": {
    "id": "0814c721"
   },
   "source": [
    "Сохраним количество уникальных позиций после нормализации данных:"
   ]
  },
  {
   "cell_type": "code",
   "execution_count": 31,
   "id": "83349a51",
   "metadata": {
    "id": "72645ae9"
   },
   "outputs": [],
   "source": [
    "genre_new_cnt = games['genre'].nunique()"
   ]
  },
  {
   "cell_type": "markdown",
   "id": "e0cac464",
   "metadata": {
    "id": "f9d8ee19"
   },
   "source": [
    "Видим, что количество уникальных значений снизилось в два раза. Теперь данные в этом столбце нормализованы."
   ]
  },
  {
   "cell_type": "markdown",
   "id": "253f025a",
   "metadata": {
    "id": "3d7a9d8e"
   },
   "source": [
    "Перейдем к следующему шагу: проверим наличие явных дубликатов в данных. Для этого используется метод duplicated:"
   ]
  },
  {
   "cell_type": "code",
   "execution_count": 32,
   "id": "1e48a7ce",
   "metadata": {
    "id": "1e48a7ce"
   },
   "outputs": [
    {
     "data": {
      "text/html": [
       "<div>\n",
       "<style scoped>\n",
       "    .dataframe tbody tr th:only-of-type {\n",
       "        vertical-align: middle;\n",
       "    }\n",
       "\n",
       "    .dataframe tbody tr th {\n",
       "        vertical-align: top;\n",
       "    }\n",
       "\n",
       "    .dataframe thead th {\n",
       "        text-align: right;\n",
       "    }\n",
       "</style>\n",
       "<table border=\"1\" class=\"dataframe\">\n",
       "  <thead>\n",
       "    <tr style=\"text-align: right;\">\n",
       "      <th></th>\n",
       "      <th>name</th>\n",
       "      <th>platform</th>\n",
       "      <th>year_of_release</th>\n",
       "      <th>genre</th>\n",
       "      <th>na_sales</th>\n",
       "      <th>eu_sales</th>\n",
       "      <th>jp_sales</th>\n",
       "      <th>other_sales</th>\n",
       "      <th>critic_score</th>\n",
       "      <th>user_score</th>\n",
       "      <th>rating</th>\n",
       "    </tr>\n",
       "  </thead>\n",
       "  <tbody>\n",
       "    <tr>\n",
       "      <th>268</th>\n",
       "      <td>Batman: Arkham Asylum</td>\n",
       "      <td>PS3</td>\n",
       "      <td>2009.0</td>\n",
       "      <td>action</td>\n",
       "      <td>2.24</td>\n",
       "      <td>1.31</td>\n",
       "      <td>0.07</td>\n",
       "      <td>0.61</td>\n",
       "      <td>91.0</td>\n",
       "      <td>8.9</td>\n",
       "      <td>T</td>\n",
       "    </tr>\n",
       "    <tr>\n",
       "      <th>368</th>\n",
       "      <td>James Bond 007: Agent Under Fire</td>\n",
       "      <td>PS2</td>\n",
       "      <td>2001.0</td>\n",
       "      <td>shooter</td>\n",
       "      <td>1.90</td>\n",
       "      <td>1.13</td>\n",
       "      <td>0.10</td>\n",
       "      <td>0.41</td>\n",
       "      <td>72.0</td>\n",
       "      <td>7.9</td>\n",
       "      <td>T</td>\n",
       "    </tr>\n",
       "    <tr>\n",
       "      <th>717</th>\n",
       "      <td>God of War: Ascension</td>\n",
       "      <td>PS3</td>\n",
       "      <td>2013.0</td>\n",
       "      <td>action</td>\n",
       "      <td>1.23</td>\n",
       "      <td>0.63</td>\n",
       "      <td>0.04</td>\n",
       "      <td>0.35</td>\n",
       "      <td>80.0</td>\n",
       "      <td>7.5</td>\n",
       "      <td>M</td>\n",
       "    </tr>\n",
       "    <tr>\n",
       "      <th>823</th>\n",
       "      <td>Wipeout: The Game</td>\n",
       "      <td>Wii</td>\n",
       "      <td>2009.0</td>\n",
       "      <td>misc</td>\n",
       "      <td>1.94</td>\n",
       "      <td>0.00</td>\n",
       "      <td>0.00</td>\n",
       "      <td>0.12</td>\n",
       "      <td>-1.0</td>\n",
       "      <td>-1.0</td>\n",
       "      <td></td>\n",
       "    </tr>\n",
       "    <tr>\n",
       "      <th>848</th>\n",
       "      <td>Rayman Raving Rabbids: TV Party</td>\n",
       "      <td>Wii</td>\n",
       "      <td>2008.0</td>\n",
       "      <td>misc</td>\n",
       "      <td>0.72</td>\n",
       "      <td>1.08</td>\n",
       "      <td>0.00</td>\n",
       "      <td>0.23</td>\n",
       "      <td>73.0</td>\n",
       "      <td>7.7</td>\n",
       "      <td>E10+</td>\n",
       "    </tr>\n",
       "    <tr>\n",
       "      <th>...</th>\n",
       "      <td>...</td>\n",
       "      <td>...</td>\n",
       "      <td>...</td>\n",
       "      <td>...</td>\n",
       "      <td>...</td>\n",
       "      <td>...</td>\n",
       "      <td>...</td>\n",
       "      <td>...</td>\n",
       "      <td>...</td>\n",
       "      <td>...</td>\n",
       "      <td>...</td>\n",
       "    </tr>\n",
       "    <tr>\n",
       "      <th>16671</th>\n",
       "      <td>Fullmetal Alchemist: Prince of the Dawn</td>\n",
       "      <td>Wii</td>\n",
       "      <td>2009.0</td>\n",
       "      <td>adventure</td>\n",
       "      <td>0.00</td>\n",
       "      <td>0.00</td>\n",
       "      <td>0.01</td>\n",
       "      <td>0.00</td>\n",
       "      <td>-1.0</td>\n",
       "      <td>-1.0</td>\n",
       "      <td></td>\n",
       "    </tr>\n",
       "    <tr>\n",
       "      <th>16753</th>\n",
       "      <td>Routes PE</td>\n",
       "      <td>PS2</td>\n",
       "      <td>2007.0</td>\n",
       "      <td>adventure</td>\n",
       "      <td>0.00</td>\n",
       "      <td>0.00</td>\n",
       "      <td>0.01</td>\n",
       "      <td>0.00</td>\n",
       "      <td>-1.0</td>\n",
       "      <td>-1.0</td>\n",
       "      <td></td>\n",
       "    </tr>\n",
       "    <tr>\n",
       "      <th>16799</th>\n",
       "      <td>Transformers: Prime</td>\n",
       "      <td>Wii</td>\n",
       "      <td>2012.0</td>\n",
       "      <td>action</td>\n",
       "      <td>0.00</td>\n",
       "      <td>0.01</td>\n",
       "      <td>0.00</td>\n",
       "      <td>0.00</td>\n",
       "      <td>-1.0</td>\n",
       "      <td>-1.0</td>\n",
       "      <td></td>\n",
       "    </tr>\n",
       "    <tr>\n",
       "      <th>16912</th>\n",
       "      <td>Metal Gear Solid V: The Definitive Experience</td>\n",
       "      <td>XOne</td>\n",
       "      <td>2016.0</td>\n",
       "      <td>action</td>\n",
       "      <td>0.01</td>\n",
       "      <td>0.00</td>\n",
       "      <td>0.00</td>\n",
       "      <td>0.00</td>\n",
       "      <td>-1.0</td>\n",
       "      <td>-1.0</td>\n",
       "      <td>M</td>\n",
       "    </tr>\n",
       "    <tr>\n",
       "      <th>16940</th>\n",
       "      <td>The Longest 5 Minutes</td>\n",
       "      <td>PSV</td>\n",
       "      <td>2016.0</td>\n",
       "      <td>action</td>\n",
       "      <td>0.00</td>\n",
       "      <td>0.00</td>\n",
       "      <td>0.01</td>\n",
       "      <td>0.00</td>\n",
       "      <td>-1.0</td>\n",
       "      <td>-1.0</td>\n",
       "      <td></td>\n",
       "    </tr>\n",
       "  </tbody>\n",
       "</table>\n",
       "<p>241 rows × 11 columns</p>\n",
       "</div>"
      ],
      "text/plain": [
       "                                                name platform  \\\n",
       "268                            Batman: Arkham Asylum      PS3   \n",
       "368                 James Bond 007: Agent Under Fire      PS2   \n",
       "717                            God of War: Ascension      PS3   \n",
       "823                                Wipeout: The Game      Wii   \n",
       "848                  Rayman Raving Rabbids: TV Party      Wii   \n",
       "...                                              ...      ...   \n",
       "16671        Fullmetal Alchemist: Prince of the Dawn      Wii   \n",
       "16753                                      Routes PE      PS2   \n",
       "16799                            Transformers: Prime      Wii   \n",
       "16912  Metal Gear Solid V: The Definitive Experience     XOne   \n",
       "16940                          The Longest 5 Minutes      PSV   \n",
       "\n",
       "       year_of_release      genre  na_sales  eu_sales  jp_sales  other_sales  \\\n",
       "268             2009.0     action      2.24      1.31      0.07         0.61   \n",
       "368             2001.0    shooter      1.90      1.13      0.10         0.41   \n",
       "717             2013.0     action      1.23      0.63      0.04         0.35   \n",
       "823             2009.0       misc      1.94      0.00      0.00         0.12   \n",
       "848             2008.0       misc      0.72      1.08      0.00         0.23   \n",
       "...                ...        ...       ...       ...       ...          ...   \n",
       "16671           2009.0  adventure      0.00      0.00      0.01         0.00   \n",
       "16753           2007.0  adventure      0.00      0.00      0.01         0.00   \n",
       "16799           2012.0     action      0.00      0.01      0.00         0.00   \n",
       "16912           2016.0     action      0.01      0.00      0.00         0.00   \n",
       "16940           2016.0     action      0.00      0.00      0.01         0.00   \n",
       "\n",
       "       critic_score  user_score rating  \n",
       "268            91.0         8.9      T  \n",
       "368            72.0         7.9      T  \n",
       "717            80.0         7.5      M  \n",
       "823            -1.0        -1.0         \n",
       "848            73.0         7.7   E10+  \n",
       "...             ...         ...    ...  \n",
       "16671          -1.0        -1.0         \n",
       "16753          -1.0        -1.0         \n",
       "16799          -1.0        -1.0         \n",
       "16912          -1.0        -1.0      M  \n",
       "16940          -1.0        -1.0         \n",
       "\n",
       "[241 rows x 11 columns]"
      ]
     },
     "execution_count": 32,
     "metadata": {},
     "output_type": "execute_result"
    }
   ],
   "source": [
    "games[games.duplicated()]"
   ]
  },
  {
   "cell_type": "markdown",
   "id": "42d3f2da",
   "metadata": {},
   "source": [
    " <div class=\"alert alert-warning\">\n",
    "<h2> Комментарий ревьюера <a class=\"tocSkip\"> </h2>\n",
    "    \n",
    "<b>Некоторые замечания и рекомендации💡:</b> \n",
    "\n",
    "также можно не выводить всю таблицу. Оно нам не помогает. Достаточно просто вывести одну чиселку с количеством дубликатов - 241."
   ]
  },
  {
   "cell_type": "markdown",
   "id": "47613d75",
   "metadata": {
    "id": "47613d75"
   },
   "source": [
    "Удостоверимся на одном примере в том, что имеем дело с явными дубликатами:"
   ]
  },
  {
   "cell_type": "code",
   "execution_count": 33,
   "id": "5166fdf8",
   "metadata": {
    "id": "5166fdf8"
   },
   "outputs": [
    {
     "data": {
      "text/html": [
       "<div>\n",
       "<style scoped>\n",
       "    .dataframe tbody tr th:only-of-type {\n",
       "        vertical-align: middle;\n",
       "    }\n",
       "\n",
       "    .dataframe tbody tr th {\n",
       "        vertical-align: top;\n",
       "    }\n",
       "\n",
       "    .dataframe thead th {\n",
       "        text-align: right;\n",
       "    }\n",
       "</style>\n",
       "<table border=\"1\" class=\"dataframe\">\n",
       "  <thead>\n",
       "    <tr style=\"text-align: right;\">\n",
       "      <th></th>\n",
       "      <th>name</th>\n",
       "      <th>platform</th>\n",
       "      <th>year_of_release</th>\n",
       "      <th>genre</th>\n",
       "      <th>na_sales</th>\n",
       "      <th>eu_sales</th>\n",
       "      <th>jp_sales</th>\n",
       "      <th>other_sales</th>\n",
       "      <th>critic_score</th>\n",
       "      <th>user_score</th>\n",
       "      <th>rating</th>\n",
       "    </tr>\n",
       "  </thead>\n",
       "  <tbody>\n",
       "    <tr>\n",
       "      <th>267</th>\n",
       "      <td>Batman: Arkham Asylum</td>\n",
       "      <td>PS3</td>\n",
       "      <td>2009.0</td>\n",
       "      <td>action</td>\n",
       "      <td>2.24</td>\n",
       "      <td>1.31</td>\n",
       "      <td>0.07</td>\n",
       "      <td>0.61</td>\n",
       "      <td>91.0</td>\n",
       "      <td>8.9</td>\n",
       "      <td>T</td>\n",
       "    </tr>\n",
       "    <tr>\n",
       "      <th>268</th>\n",
       "      <td>Batman: Arkham Asylum</td>\n",
       "      <td>PS3</td>\n",
       "      <td>2009.0</td>\n",
       "      <td>action</td>\n",
       "      <td>2.24</td>\n",
       "      <td>1.31</td>\n",
       "      <td>0.07</td>\n",
       "      <td>0.61</td>\n",
       "      <td>91.0</td>\n",
       "      <td>8.9</td>\n",
       "      <td>T</td>\n",
       "    </tr>\n",
       "    <tr>\n",
       "      <th>381</th>\n",
       "      <td>Batman: Arkham Asylum</td>\n",
       "      <td>X360</td>\n",
       "      <td>2009.0</td>\n",
       "      <td>action</td>\n",
       "      <td>2.20</td>\n",
       "      <td>0.95</td>\n",
       "      <td>0.02</td>\n",
       "      <td>0.31</td>\n",
       "      <td>92.0</td>\n",
       "      <td>8.7</td>\n",
       "      <td>T</td>\n",
       "    </tr>\n",
       "    <tr>\n",
       "      <th>5666</th>\n",
       "      <td>Batman: Arkham Asylum</td>\n",
       "      <td>PC</td>\n",
       "      <td>2009.0</td>\n",
       "      <td>action</td>\n",
       "      <td>0.00</td>\n",
       "      <td>0.28</td>\n",
       "      <td>0.00</td>\n",
       "      <td>0.05</td>\n",
       "      <td>91.0</td>\n",
       "      <td>8.7</td>\n",
       "      <td>T</td>\n",
       "    </tr>\n",
       "  </tbody>\n",
       "</table>\n",
       "</div>"
      ],
      "text/plain": [
       "                       name platform  year_of_release   genre  na_sales  \\\n",
       "267   Batman: Arkham Asylum      PS3           2009.0  action      2.24   \n",
       "268   Batman: Arkham Asylum      PS3           2009.0  action      2.24   \n",
       "381   Batman: Arkham Asylum     X360           2009.0  action      2.20   \n",
       "5666  Batman: Arkham Asylum       PC           2009.0  action      0.00   \n",
       "\n",
       "      eu_sales  jp_sales  other_sales  critic_score  user_score rating  \n",
       "267       1.31      0.07         0.61          91.0         8.9      T  \n",
       "268       1.31      0.07         0.61          91.0         8.9      T  \n",
       "381       0.95      0.02         0.31          92.0         8.7      T  \n",
       "5666      0.28      0.00         0.05          91.0         8.7      T  "
      ]
     },
     "execution_count": 33,
     "metadata": {},
     "output_type": "execute_result"
    }
   ],
   "source": [
    "games[games['name']=='Batman: Arkham Asylum']"
   ]
  },
  {
   "cell_type": "markdown",
   "id": "3cace06d",
   "metadata": {
    "id": "12a69dba"
   },
   "source": [
    "Удалим явные дубликаты и сохраним новый датафрейм:"
   ]
  },
  {
   "cell_type": "code",
   "execution_count": 34,
   "id": "a2c09ca7",
   "metadata": {
    "id": "a2c09ca7"
   },
   "outputs": [
    {
     "data": {
      "text/plain": [
       "(16713, 11)"
      ]
     },
     "execution_count": 34,
     "metadata": {},
     "output_type": "execute_result"
    }
   ],
   "source": [
    "drop_dup_games = games.drop_duplicates()\n",
    "drop_dup_games.shape"
   ]
  },
  {
   "cell_type": "markdown",
   "id": "8770530d",
   "metadata": {},
   "source": [
    "**Выведем все изменения, произошедшие с датафреймом при работе с пропусками и дубликатами:**\n",
    "\n",
    "Предобработка неявных дубликатов, а именно данных в столбце `genre`, повлияла на датафрейм следующим образом:"
   ]
  },
  {
   "cell_type": "code",
   "execution_count": 40,
   "id": "20ef4d53",
   "metadata": {},
   "outputs": [],
   "source": [
    "deleted_str = games.shape[0] - drop_dup_games.shape[0]\n",
    "share_deleted_str = deleted_str / games.shape[0]"
   ]
  },
  {
   "cell_type": "code",
   "execution_count": 41,
   "id": "19678400",
   "metadata": {},
   "outputs": [
    {
     "name": "stdout",
     "output_type": "stream",
     "text": [
      "Количество удаленных строк в абсолютном значении: 241\n",
      "Количество удаленных строк в относительном значении: 0.014214934528724785\n"
     ]
    }
   ],
   "source": [
    "print('Количество удаленных строк в абсолютном значении:', deleted_str)\n",
    "print('Количество удаленных строк в относительном значении:', share_deleted_str)"
   ]
  },
  {
   "cell_type": "markdown",
   "id": "48083169",
   "metadata": {},
   "source": [
    "<div class=\"alert alert-info\">\n",
    "<h2> Комментарий студента <a class=\"tocSkip\"></h2>\n",
    "\n",
    "Замечение поправлено"
   ]
  },
  {
   "cell_type": "markdown",
   "id": "12234a05",
   "metadata": {},
   "source": [
    "<div class=\"alert alert-success\">\n",
    "<h2> Комментарий ревьюера #2 <a class=\"tocSkip\"> </h2>\n",
    "\n",
    "👍 Cнова привет. Спасибо за заметное оформление твоих комментариев.\n",
    "    \n",
    "Все верно по расчету.\n",
    "</div>\n"
   ]
  },
  {
   "cell_type": "markdown",
   "id": "74316b06",
   "metadata": {},
   "source": [
    " <div class=\"alert alert-block alert-danger\">\n",
    "<h2><s> Комментарий ревьюера <a class=\"tocSkip\"></h2>\n",
    "  \n",
    "<b>На доработку🤔:</b>\n",
    "\n",
    "`Количество удаленных строк в относительном значении: 0.5` - это 50%? Кажется, не соответствует действительности.\n",
    "    \n",
    "***\n",
    "    \n",
    "Смотри ,на этом этапе мы решаем задачу узнать, а не много ли строк мы порезали за всю предобработку. Достаточно на моменте загрузки датасета замерить сколько было строк, а здесь после всей-всей предобработки замерить, сколько осталось. Нужно посмотреть разность и долю."
   ]
  },
  {
   "cell_type": "markdown",
   "id": "5ed4309f",
   "metadata": {},
   "source": [
    "Предобработка пропусков и явных дубликатов в общем повлияла на датафрейм следующим образом:"
   ]
  },
  {
   "cell_type": "code",
   "execution_count": 39,
   "id": "c579809b",
   "metadata": {},
   "outputs": [
    {
     "name": "stdout",
     "output_type": "stream",
     "text": [
      "Количество удаленных строк в абсолютном значении: 243\n",
      "Количество удаленных строк в относительном значении: 0.014\n"
     ]
    }
   ],
   "source": [
    "print('Количество удаленных строк в абсолютном значении:', games_strcol[0] - drop_dup_games.shape[0])\n",
    "print('Количество удаленных строк в относительном значении:', round((games.shape[0] - drop_dup_games.shape[0])/games.shape[0], 3))"
   ]
  },
  {
   "cell_type": "markdown",
   "id": "95647df5",
   "metadata": {},
   "source": [
    "Ищем неявные дубликаты через метод .duplicated. Осуществим поиск для столбцов с наименованием игры и платформой:"
   ]
  },
  {
   "cell_type": "code",
   "execution_count": 103,
   "id": "1a33838d",
   "metadata": {},
   "outputs": [
    {
     "name": "stdout",
     "output_type": "stream",
     "text": [
      "                              name platform  year_of_release     genre  \\\n",
      "1605   Need for Speed: Most Wanted     X360           2005.0    racing   \n",
      "4173            Sonic the Hedgehog      PS3              NaN  platform   \n",
      "11873  Need for Speed: Most Wanted       PC           2012.0    racing   \n",
      "16465                Madden NFL 13      PS3           2012.0    sports   \n",
      "\n",
      "       na_sales  eu_sales  jp_sales  other_sales  critic_score  user_score  \\\n",
      "1605        1.0      0.13      0.02         0.10          83.0         8.5   \n",
      "4173        0.0      0.48      0.00         0.00          43.0         4.1   \n",
      "11873       0.0      0.06      0.00         0.02          82.0         8.5   \n",
      "16465       0.0      0.01      0.00         0.00          83.0         5.5   \n",
      "\n",
      "      rating  \n",
      "1605       T  \n",
      "4173    E10+  \n",
      "11873      T  \n",
      "16465      E  \n",
      "Количество неявных дубликатов по столбцам [name] + [platform]: 4\n"
     ]
    }
   ],
   "source": [
    "print(drop_dup_games[drop_dup_games.duplicated(subset=['name', 'platform'])])\n",
    "print('Количество неявных дубликатов по столбцам [name] + [platform]:', drop_dup_games[drop_dup_games.duplicated(subset=['name', 'platform'])].shape[0])"
   ]
  },
  {
   "cell_type": "markdown",
   "id": "55cf4034",
   "metadata": {},
   "source": [
    "Видим, что по указанным столбцам имеются 4 дубликата, удалим их:"
   ]
  },
  {
   "cell_type": "code",
   "execution_count": 104,
   "id": "d30cdb34",
   "metadata": {},
   "outputs": [],
   "source": [
    "drop_dup_games = drop_dup_games.drop_duplicates(subset=['name', 'platform'])"
   ]
  },
  {
   "cell_type": "markdown",
   "id": "0e2d0172",
   "metadata": {},
   "source": [
    "Проверим, что удаление произошло успешно:"
   ]
  },
  {
   "cell_type": "code",
   "execution_count": 105,
   "id": "2616a102",
   "metadata": {},
   "outputs": [
    {
     "name": "stdout",
     "output_type": "stream",
     "text": [
      "Количество неявных дубликатов по столбцам [name] + [platform]: 0\n"
     ]
    }
   ],
   "source": [
    "print('Количество неявных дубликатов по столбцам [name] + [platform]:', drop_dup_games[drop_dup_games.duplicated(subset=['name', 'platform'])].shape[0])"
   ]
  },
  {
   "cell_type": "markdown",
   "id": "531edb31",
   "metadata": {},
   "source": [
    "Осуществим аналогичный поиск по имени, платформе и году релиза игры:"
   ]
  },
  {
   "cell_type": "code",
   "execution_count": 106,
   "id": "44f8ed65",
   "metadata": {},
   "outputs": [
    {
     "name": "stdout",
     "output_type": "stream",
     "text": [
      "Empty DataFrame\n",
      "Columns: [name, platform, year_of_release, genre, na_sales, eu_sales, jp_sales, other_sales, critic_score, user_score, rating]\n",
      "Index: []\n",
      "Количество неявных дубликатов по столбцам [name] + [platform]: 0\n"
     ]
    }
   ],
   "source": [
    "print(drop_dup_games[drop_dup_games.duplicated(subset=['name', 'platform', 'year_of_release'])])\n",
    "print('Количество неявных дубликатов по столбцам [name] + [platform]:', drop_dup_games[drop_dup_games.duplicated(subset=['name', 'platform', 'year_of_release'])].shape[0])"
   ]
  },
  {
   "cell_type": "markdown",
   "id": "fd07c147",
   "metadata": {},
   "source": [
    "Неявных дубликатов в указанных трех столбцах не обнаружено, что говорит о том, что вероятнее всего больше неявных дубликатов в датафрейме не имеется."
   ]
  },
  {
   "cell_type": "markdown",
   "id": "9e8be6d4",
   "metadata": {},
   "source": [
    "**Промежуточный вывод:**\n",
    "\n",
    "В данных выявились как неявные дубликаты, так и явные дубликаты. Неявные дубликаты сосредоточились в колонке genre, они обработаны и приведены к унифицированной форме. В остальных столбцах неявных дубликатов не обнаружилось. Явные дубликаты исследованы с помощью метода библиотеки pandas, удалены все повторения одной и той же строки. Обработанный датафрейм сохранен в новый `drop_dup_games`, имеющий после манипуляций 16713 строк (по сравнению с 16956 строк в старом датафрейме).\n",
    "\n",
    "**Общий вывод по предобработке данных:**\n",
    "\n",
    "Данные были загружены из предоставленного файла .csv, было проведено знакомство с ними и их типами данных. Столбцы были преобразованы в предпочтительный для работы с кодом стиль snake case. Проведена работа с преобразованием типов данных в логически верные. Пропуски были исследованы и в зависимости от условий удалены, оставлены или заполнены значением-индикатором. Также были обнаружены как неявные, так и явные дубликаты, которые были устранены."
   ]
  },
  {
   "cell_type": "markdown",
   "id": "4d39029b",
   "metadata": {},
   "source": [
    "<div class=\"alert alert-success\">\n",
    "<h2> Комментарий ревьюера <a class=\"tocSkip\"> </h2>\n",
    "\n",
    "👍 А по оформлению замечательно."
   ]
  },
  {
   "cell_type": "markdown",
   "id": "613f0eb0",
   "metadata": {
    "id": "613f0eb0"
   },
   "source": [
    "---\n",
    "\n",
    "## 3. Фильтрация данных\n",
    "\n",
    "Коллеги хотят изучить историю продаж игр в начале XXI века, и их интересует период с 2000 по 2013 год включительно. Отберите данные по этому показателю. Сохраните новый срез данных в отдельном датафрейме, например `df_actual`."
   ]
  },
  {
   "cell_type": "markdown",
   "id": "f2460cba",
   "metadata": {
    "id": "2344916d"
   },
   "source": [
    "Так как нас интересуют данные только за период с 2000 по 2013 год включительно, сделаем срез нужных нам данных:"
   ]
  },
  {
   "cell_type": "code",
   "execution_count": 116,
   "id": "44d7529f",
   "metadata": {
    "id": "44d7529f"
   },
   "outputs": [],
   "source": [
    "df_actual = drop_dup_games[(drop_dup_games['year_of_release'] >= 2000) & (drop_dup_games['year_of_release'] <= 2013)]"
   ]
  },
  {
   "cell_type": "markdown",
   "id": "99f4dd06",
   "metadata": {},
   "source": [
    "<div class=\"alert alert-success\">\n",
    "<h2> Комментарий ревьюера <a class=\"tocSkip\"> </h2>\n",
    "\n",
    "👍"
   ]
  },
  {
   "cell_type": "code",
   "execution_count": 109,
   "id": "906577e8",
   "metadata": {
    "id": "906577e8"
   },
   "outputs": [
    {
     "data": {
      "text/html": [
       "<div>\n",
       "<style scoped>\n",
       "    .dataframe tbody tr th:only-of-type {\n",
       "        vertical-align: middle;\n",
       "    }\n",
       "\n",
       "    .dataframe tbody tr th {\n",
       "        vertical-align: top;\n",
       "    }\n",
       "\n",
       "    .dataframe thead th {\n",
       "        text-align: right;\n",
       "    }\n",
       "</style>\n",
       "<table border=\"1\" class=\"dataframe\">\n",
       "  <thead>\n",
       "    <tr style=\"text-align: right;\">\n",
       "      <th></th>\n",
       "      <th>name</th>\n",
       "      <th>platform</th>\n",
       "      <th>year_of_release</th>\n",
       "      <th>genre</th>\n",
       "      <th>na_sales</th>\n",
       "      <th>eu_sales</th>\n",
       "      <th>jp_sales</th>\n",
       "      <th>other_sales</th>\n",
       "      <th>critic_score</th>\n",
       "      <th>user_score</th>\n",
       "      <th>rating</th>\n",
       "    </tr>\n",
       "  </thead>\n",
       "  <tbody>\n",
       "    <tr>\n",
       "      <th>0</th>\n",
       "      <td>Wii Sports</td>\n",
       "      <td>Wii</td>\n",
       "      <td>2006.0</td>\n",
       "      <td>sports</td>\n",
       "      <td>41.36</td>\n",
       "      <td>28.96</td>\n",
       "      <td>3.77</td>\n",
       "      <td>8.45</td>\n",
       "      <td>76.0</td>\n",
       "      <td>8.0</td>\n",
       "      <td>E</td>\n",
       "    </tr>\n",
       "    <tr>\n",
       "      <th>2</th>\n",
       "      <td>Mario Kart Wii</td>\n",
       "      <td>Wii</td>\n",
       "      <td>2008.0</td>\n",
       "      <td>racing</td>\n",
       "      <td>15.68</td>\n",
       "      <td>12.76</td>\n",
       "      <td>3.79</td>\n",
       "      <td>3.29</td>\n",
       "      <td>82.0</td>\n",
       "      <td>8.3</td>\n",
       "      <td>E</td>\n",
       "    </tr>\n",
       "    <tr>\n",
       "      <th>3</th>\n",
       "      <td>Wii Sports Resort</td>\n",
       "      <td>Wii</td>\n",
       "      <td>2009.0</td>\n",
       "      <td>sports</td>\n",
       "      <td>15.61</td>\n",
       "      <td>10.93</td>\n",
       "      <td>3.28</td>\n",
       "      <td>2.95</td>\n",
       "      <td>80.0</td>\n",
       "      <td>8.0</td>\n",
       "      <td>E</td>\n",
       "    </tr>\n",
       "    <tr>\n",
       "      <th>6</th>\n",
       "      <td>New Super Mario Bros.</td>\n",
       "      <td>DS</td>\n",
       "      <td>2006.0</td>\n",
       "      <td>platform</td>\n",
       "      <td>11.28</td>\n",
       "      <td>9.14</td>\n",
       "      <td>6.50</td>\n",
       "      <td>2.88</td>\n",
       "      <td>89.0</td>\n",
       "      <td>8.5</td>\n",
       "      <td>E</td>\n",
       "    </tr>\n",
       "    <tr>\n",
       "      <th>7</th>\n",
       "      <td>Wii Play</td>\n",
       "      <td>Wii</td>\n",
       "      <td>2006.0</td>\n",
       "      <td>misc</td>\n",
       "      <td>13.96</td>\n",
       "      <td>9.18</td>\n",
       "      <td>2.93</td>\n",
       "      <td>2.84</td>\n",
       "      <td>58.0</td>\n",
       "      <td>6.6</td>\n",
       "      <td>E</td>\n",
       "    </tr>\n",
       "    <tr>\n",
       "      <th>8</th>\n",
       "      <td>New Super Mario Bros. Wii</td>\n",
       "      <td>Wii</td>\n",
       "      <td>2009.0</td>\n",
       "      <td>platform</td>\n",
       "      <td>14.44</td>\n",
       "      <td>6.94</td>\n",
       "      <td>4.70</td>\n",
       "      <td>2.24</td>\n",
       "      <td>87.0</td>\n",
       "      <td>8.4</td>\n",
       "      <td>E</td>\n",
       "    </tr>\n",
       "    <tr>\n",
       "      <th>10</th>\n",
       "      <td>Nintendogs</td>\n",
       "      <td>DS</td>\n",
       "      <td>2005.0</td>\n",
       "      <td>simulation</td>\n",
       "      <td>9.05</td>\n",
       "      <td>10.95</td>\n",
       "      <td>1.93</td>\n",
       "      <td>2.74</td>\n",
       "      <td>-1.0</td>\n",
       "      <td>-1.0</td>\n",
       "      <td></td>\n",
       "    </tr>\n",
       "    <tr>\n",
       "      <th>11</th>\n",
       "      <td>Mario Kart DS</td>\n",
       "      <td>DS</td>\n",
       "      <td>2005.0</td>\n",
       "      <td>racing</td>\n",
       "      <td>9.71</td>\n",
       "      <td>7.47</td>\n",
       "      <td>4.13</td>\n",
       "      <td>1.90</td>\n",
       "      <td>91.0</td>\n",
       "      <td>8.6</td>\n",
       "      <td>E</td>\n",
       "    </tr>\n",
       "    <tr>\n",
       "      <th>13</th>\n",
       "      <td>Wii Fit</td>\n",
       "      <td>Wii</td>\n",
       "      <td>2007.0</td>\n",
       "      <td>sports</td>\n",
       "      <td>8.92</td>\n",
       "      <td>8.03</td>\n",
       "      <td>3.60</td>\n",
       "      <td>2.15</td>\n",
       "      <td>80.0</td>\n",
       "      <td>7.7</td>\n",
       "      <td>E</td>\n",
       "    </tr>\n",
       "    <tr>\n",
       "      <th>14</th>\n",
       "      <td>Kinect Adventures!</td>\n",
       "      <td>X360</td>\n",
       "      <td>2010.0</td>\n",
       "      <td>misc</td>\n",
       "      <td>15.00</td>\n",
       "      <td>4.89</td>\n",
       "      <td>0.24</td>\n",
       "      <td>1.69</td>\n",
       "      <td>61.0</td>\n",
       "      <td>6.3</td>\n",
       "      <td>E</td>\n",
       "    </tr>\n",
       "  </tbody>\n",
       "</table>\n",
       "</div>"
      ],
      "text/plain": [
       "                         name platform  year_of_release       genre  na_sales  \\\n",
       "0                  Wii Sports      Wii           2006.0      sports     41.36   \n",
       "2              Mario Kart Wii      Wii           2008.0      racing     15.68   \n",
       "3           Wii Sports Resort      Wii           2009.0      sports     15.61   \n",
       "6       New Super Mario Bros.       DS           2006.0    platform     11.28   \n",
       "7                    Wii Play      Wii           2006.0        misc     13.96   \n",
       "8   New Super Mario Bros. Wii      Wii           2009.0    platform     14.44   \n",
       "10                 Nintendogs       DS           2005.0  simulation      9.05   \n",
       "11              Mario Kart DS       DS           2005.0      racing      9.71   \n",
       "13                    Wii Fit      Wii           2007.0      sports      8.92   \n",
       "14         Kinect Adventures!     X360           2010.0        misc     15.00   \n",
       "\n",
       "    eu_sales  jp_sales  other_sales  critic_score  user_score rating  \n",
       "0      28.96      3.77         8.45          76.0         8.0      E  \n",
       "2      12.76      3.79         3.29          82.0         8.3      E  \n",
       "3      10.93      3.28         2.95          80.0         8.0      E  \n",
       "6       9.14      6.50         2.88          89.0         8.5      E  \n",
       "7       9.18      2.93         2.84          58.0         6.6      E  \n",
       "8       6.94      4.70         2.24          87.0         8.4      E  \n",
       "10     10.95      1.93         2.74          -1.0        -1.0         \n",
       "11      7.47      4.13         1.90          91.0         8.6      E  \n",
       "13      8.03      3.60         2.15          80.0         7.7      E  \n",
       "14      4.89      0.24         1.69          61.0         6.3      E  "
      ]
     },
     "execution_count": 109,
     "metadata": {},
     "output_type": "execute_result"
    }
   ],
   "source": [
    "df_actual.head(10)"
   ]
  },
  {
   "cell_type": "markdown",
   "id": "7d24a2f1",
   "metadata": {},
   "source": [
    "И выведем его размеры:"
   ]
  },
  {
   "cell_type": "code",
   "execution_count": 111,
   "id": "ec916425",
   "metadata": {},
   "outputs": [
    {
     "data": {
      "text/plain": [
       "(12778, 11)"
      ]
     },
     "execution_count": 111,
     "metadata": {},
     "output_type": "execute_result"
    }
   ],
   "source": [
    "df_actual.shape"
   ]
  },
  {
   "cell_type": "markdown",
   "id": "e23adcd5",
   "metadata": {},
   "source": [
    "Для того чтобы быть более уверенным в новом датафрейме, попробуем найти в нем данные за года, не включенные в промежуток:"
   ]
  },
  {
   "cell_type": "code",
   "execution_count": 113,
   "id": "790373be",
   "metadata": {},
   "outputs": [
    {
     "data": {
      "text/html": [
       "<div>\n",
       "<style scoped>\n",
       "    .dataframe tbody tr th:only-of-type {\n",
       "        vertical-align: middle;\n",
       "    }\n",
       "\n",
       "    .dataframe tbody tr th {\n",
       "        vertical-align: top;\n",
       "    }\n",
       "\n",
       "    .dataframe thead th {\n",
       "        text-align: right;\n",
       "    }\n",
       "</style>\n",
       "<table border=\"1\" class=\"dataframe\">\n",
       "  <thead>\n",
       "    <tr style=\"text-align: right;\">\n",
       "      <th></th>\n",
       "      <th>name</th>\n",
       "      <th>platform</th>\n",
       "      <th>year_of_release</th>\n",
       "      <th>genre</th>\n",
       "      <th>na_sales</th>\n",
       "      <th>eu_sales</th>\n",
       "      <th>jp_sales</th>\n",
       "      <th>other_sales</th>\n",
       "      <th>critic_score</th>\n",
       "      <th>user_score</th>\n",
       "      <th>rating</th>\n",
       "    </tr>\n",
       "  </thead>\n",
       "  <tbody>\n",
       "  </tbody>\n",
       "</table>\n",
       "</div>"
      ],
      "text/plain": [
       "Empty DataFrame\n",
       "Columns: [name, platform, year_of_release, genre, na_sales, eu_sales, jp_sales, other_sales, critic_score, user_score, rating]\n",
       "Index: []"
      ]
     },
     "execution_count": 113,
     "metadata": {},
     "output_type": "execute_result"
    }
   ],
   "source": [
    "df_actual[(df_actual['year_of_release'] < 2000) | (df_actual['year_of_release'] > 2013)]"
   ]
  },
  {
   "cell_type": "markdown",
   "id": "a06b8993",
   "metadata": {},
   "source": [
    "Таких данных нет, а значит датафрейм сформирован верно."
   ]
  },
  {
   "cell_type": "markdown",
   "id": "0656ead3",
   "metadata": {},
   "source": [
    "<div class=\"alert alert-success\">\n",
    "<h2> Комментарий ревьюера <a class=\"tocSkip\"> </h2>\n",
    "\n",
    "👍"
   ]
  },
  {
   "cell_type": "markdown",
   "id": "095df65e",
   "metadata": {},
   "source": [
    "**Промежуточный вывод:**\n",
    "\n",
    "На данном этапе сформирован новый датафрейм путем фильтрации предобработанного исходного."
   ]
  },
  {
   "cell_type": "markdown",
   "id": "a6f10b01",
   "metadata": {
    "id": "a6f10b01"
   },
   "source": [
    "---\n",
    "\n",
    "## 4. Категоризация данных\n",
    "    \n",
    "Проведите категоризацию данных:\n",
    "- Разделите все игры по оценкам пользователей и выделите такие категории: высокая оценка (от 8 до 10 включительно), средняя оценка (от 3 до 8, не включая правую границу интервала) и низкая оценка (от 0 до 3, не включая правую границу интервала).\n",
    "- Разделите все игры по оценкам критиков и выделите такие категории: высокая оценка (от 80 до 100 включительно), средняя оценка (от 30 до 80, не включая правую границу интервала) и низкая оценка (от 0 до 30, не включая правую границу интервала).\n",
    "- Выделите топ-7 платформ по количеству игр, выпущенных за весь актуальный период."
   ]
  },
  {
   "cell_type": "markdown",
   "id": "f8f34b40",
   "metadata": {
    "id": "f8f34b40"
   },
   "source": [
    "- Разделите все игры по оценкам критиков и выделите такие категории: высокая оценка (от 80 до 100 включительно), средняя оценка (от 30 до 80, не включая правую границу интервала) и низкая оценка (от 0 до 30, не включая правую границу интервала)."
   ]
  },
  {
   "cell_type": "markdown",
   "id": "196cfccc",
   "metadata": {
    "id": "003caa2c"
   },
   "source": [
    "Для разделения всех игр по оценкам пользователей и выделения нужных категорий напишем пользовательскую функцию и применим ее для рассматриваемого столбца `user_score:`"
   ]
  },
  {
   "cell_type": "code",
   "execution_count": 119,
   "id": "e8d8a1d0",
   "metadata": {
    "id": "e8d8a1d0"
   },
   "outputs": [],
   "source": [
    "# напишем функцию для разделения оценок пользователей по категориям\n",
    "def category_user(value):\n",
    "    if 0 <= value < 3:\n",
    "        return \"Низкая оценка\"\n",
    "    elif 3 <= value < 8:\n",
    "        return \"Средняя оценка\"\n",
    "    elif 8 <= value <= 10:\n",
    "        return \"Высокая оценка\"\n",
    "    else:\n",
    "        return \"Нет оценки\"\n",
    "\n",
    "df_actual = df_actual.copy()\n",
    "df_actual['user_category'] = df_actual['user_score'].apply(category_user)"
   ]
  },
  {
   "cell_type": "markdown",
   "id": "d4363e10",
   "metadata": {
    "id": "f240904a"
   },
   "source": [
    "Для данных в столбце `critic_score` выберем другой способ категоризации и применим метод pd.cut:"
   ]
  },
  {
   "cell_type": "code",
   "execution_count": 121,
   "id": "135e22a9",
   "metadata": {},
   "outputs": [],
   "source": [
    "df_actual['critic_category'] = pd.cut(df_actual['critic_score'], bins=[-1, 0, 30, 80, 100.1],\\\n",
    "                                             labels=[\"Нет оценки\", \"Низкая оценка\", \"Средняя оценка\", \"Высокая оценка\"], right=False)"
   ]
  },
  {
   "cell_type": "markdown",
   "id": "4dc809c9",
   "metadata": {},
   "source": [
    "<div class=\"alert alert-success\">\n",
    "<h2> Комментарий ревьюера <a class=\"tocSkip\"> </h2>\n",
    "\n",
    "👍 Оба подхода верные."
   ]
  },
  {
   "cell_type": "code",
   "execution_count": 122,
   "id": "4c4bb952",
   "metadata": {},
   "outputs": [
    {
     "data": {
      "text/html": [
       "<div>\n",
       "<style scoped>\n",
       "    .dataframe tbody tr th:only-of-type {\n",
       "        vertical-align: middle;\n",
       "    }\n",
       "\n",
       "    .dataframe tbody tr th {\n",
       "        vertical-align: top;\n",
       "    }\n",
       "\n",
       "    .dataframe thead th {\n",
       "        text-align: right;\n",
       "    }\n",
       "</style>\n",
       "<table border=\"1\" class=\"dataframe\">\n",
       "  <thead>\n",
       "    <tr style=\"text-align: right;\">\n",
       "      <th></th>\n",
       "      <th>name</th>\n",
       "      <th>platform</th>\n",
       "      <th>year_of_release</th>\n",
       "      <th>genre</th>\n",
       "      <th>na_sales</th>\n",
       "      <th>eu_sales</th>\n",
       "      <th>jp_sales</th>\n",
       "      <th>other_sales</th>\n",
       "      <th>critic_score</th>\n",
       "      <th>user_score</th>\n",
       "      <th>rating</th>\n",
       "      <th>user_category</th>\n",
       "      <th>critic_category</th>\n",
       "    </tr>\n",
       "  </thead>\n",
       "  <tbody>\n",
       "    <tr>\n",
       "      <th>0</th>\n",
       "      <td>Wii Sports</td>\n",
       "      <td>Wii</td>\n",
       "      <td>2006.0</td>\n",
       "      <td>sports</td>\n",
       "      <td>41.36</td>\n",
       "      <td>28.96</td>\n",
       "      <td>3.77</td>\n",
       "      <td>8.45</td>\n",
       "      <td>76.0</td>\n",
       "      <td>8.0</td>\n",
       "      <td>E</td>\n",
       "      <td>Высокая оценка</td>\n",
       "      <td>Средняя оценка</td>\n",
       "    </tr>\n",
       "    <tr>\n",
       "      <th>2</th>\n",
       "      <td>Mario Kart Wii</td>\n",
       "      <td>Wii</td>\n",
       "      <td>2008.0</td>\n",
       "      <td>racing</td>\n",
       "      <td>15.68</td>\n",
       "      <td>12.76</td>\n",
       "      <td>3.79</td>\n",
       "      <td>3.29</td>\n",
       "      <td>82.0</td>\n",
       "      <td>8.3</td>\n",
       "      <td>E</td>\n",
       "      <td>Высокая оценка</td>\n",
       "      <td>Высокая оценка</td>\n",
       "    </tr>\n",
       "    <tr>\n",
       "      <th>3</th>\n",
       "      <td>Wii Sports Resort</td>\n",
       "      <td>Wii</td>\n",
       "      <td>2009.0</td>\n",
       "      <td>sports</td>\n",
       "      <td>15.61</td>\n",
       "      <td>10.93</td>\n",
       "      <td>3.28</td>\n",
       "      <td>2.95</td>\n",
       "      <td>80.0</td>\n",
       "      <td>8.0</td>\n",
       "      <td>E</td>\n",
       "      <td>Высокая оценка</td>\n",
       "      <td>Высокая оценка</td>\n",
       "    </tr>\n",
       "    <tr>\n",
       "      <th>6</th>\n",
       "      <td>New Super Mario Bros.</td>\n",
       "      <td>DS</td>\n",
       "      <td>2006.0</td>\n",
       "      <td>platform</td>\n",
       "      <td>11.28</td>\n",
       "      <td>9.14</td>\n",
       "      <td>6.50</td>\n",
       "      <td>2.88</td>\n",
       "      <td>89.0</td>\n",
       "      <td>8.5</td>\n",
       "      <td>E</td>\n",
       "      <td>Высокая оценка</td>\n",
       "      <td>Высокая оценка</td>\n",
       "    </tr>\n",
       "    <tr>\n",
       "      <th>7</th>\n",
       "      <td>Wii Play</td>\n",
       "      <td>Wii</td>\n",
       "      <td>2006.0</td>\n",
       "      <td>misc</td>\n",
       "      <td>13.96</td>\n",
       "      <td>9.18</td>\n",
       "      <td>2.93</td>\n",
       "      <td>2.84</td>\n",
       "      <td>58.0</td>\n",
       "      <td>6.6</td>\n",
       "      <td>E</td>\n",
       "      <td>Средняя оценка</td>\n",
       "      <td>Средняя оценка</td>\n",
       "    </tr>\n",
       "    <tr>\n",
       "      <th>8</th>\n",
       "      <td>New Super Mario Bros. Wii</td>\n",
       "      <td>Wii</td>\n",
       "      <td>2009.0</td>\n",
       "      <td>platform</td>\n",
       "      <td>14.44</td>\n",
       "      <td>6.94</td>\n",
       "      <td>4.70</td>\n",
       "      <td>2.24</td>\n",
       "      <td>87.0</td>\n",
       "      <td>8.4</td>\n",
       "      <td>E</td>\n",
       "      <td>Высокая оценка</td>\n",
       "      <td>Высокая оценка</td>\n",
       "    </tr>\n",
       "    <tr>\n",
       "      <th>10</th>\n",
       "      <td>Nintendogs</td>\n",
       "      <td>DS</td>\n",
       "      <td>2005.0</td>\n",
       "      <td>simulation</td>\n",
       "      <td>9.05</td>\n",
       "      <td>10.95</td>\n",
       "      <td>1.93</td>\n",
       "      <td>2.74</td>\n",
       "      <td>-1.0</td>\n",
       "      <td>-1.0</td>\n",
       "      <td></td>\n",
       "      <td>Нет оценки</td>\n",
       "      <td>Нет оценки</td>\n",
       "    </tr>\n",
       "    <tr>\n",
       "      <th>11</th>\n",
       "      <td>Mario Kart DS</td>\n",
       "      <td>DS</td>\n",
       "      <td>2005.0</td>\n",
       "      <td>racing</td>\n",
       "      <td>9.71</td>\n",
       "      <td>7.47</td>\n",
       "      <td>4.13</td>\n",
       "      <td>1.90</td>\n",
       "      <td>91.0</td>\n",
       "      <td>8.6</td>\n",
       "      <td>E</td>\n",
       "      <td>Высокая оценка</td>\n",
       "      <td>Высокая оценка</td>\n",
       "    </tr>\n",
       "    <tr>\n",
       "      <th>13</th>\n",
       "      <td>Wii Fit</td>\n",
       "      <td>Wii</td>\n",
       "      <td>2007.0</td>\n",
       "      <td>sports</td>\n",
       "      <td>8.92</td>\n",
       "      <td>8.03</td>\n",
       "      <td>3.60</td>\n",
       "      <td>2.15</td>\n",
       "      <td>80.0</td>\n",
       "      <td>7.7</td>\n",
       "      <td>E</td>\n",
       "      <td>Средняя оценка</td>\n",
       "      <td>Высокая оценка</td>\n",
       "    </tr>\n",
       "    <tr>\n",
       "      <th>14</th>\n",
       "      <td>Kinect Adventures!</td>\n",
       "      <td>X360</td>\n",
       "      <td>2010.0</td>\n",
       "      <td>misc</td>\n",
       "      <td>15.00</td>\n",
       "      <td>4.89</td>\n",
       "      <td>0.24</td>\n",
       "      <td>1.69</td>\n",
       "      <td>61.0</td>\n",
       "      <td>6.3</td>\n",
       "      <td>E</td>\n",
       "      <td>Средняя оценка</td>\n",
       "      <td>Средняя оценка</td>\n",
       "    </tr>\n",
       "  </tbody>\n",
       "</table>\n",
       "</div>"
      ],
      "text/plain": [
       "                         name platform  year_of_release       genre  na_sales  \\\n",
       "0                  Wii Sports      Wii           2006.0      sports     41.36   \n",
       "2              Mario Kart Wii      Wii           2008.0      racing     15.68   \n",
       "3           Wii Sports Resort      Wii           2009.0      sports     15.61   \n",
       "6       New Super Mario Bros.       DS           2006.0    platform     11.28   \n",
       "7                    Wii Play      Wii           2006.0        misc     13.96   \n",
       "8   New Super Mario Bros. Wii      Wii           2009.0    platform     14.44   \n",
       "10                 Nintendogs       DS           2005.0  simulation      9.05   \n",
       "11              Mario Kart DS       DS           2005.0      racing      9.71   \n",
       "13                    Wii Fit      Wii           2007.0      sports      8.92   \n",
       "14         Kinect Adventures!     X360           2010.0        misc     15.00   \n",
       "\n",
       "    eu_sales  jp_sales  other_sales  critic_score  user_score rating  \\\n",
       "0      28.96      3.77         8.45          76.0         8.0      E   \n",
       "2      12.76      3.79         3.29          82.0         8.3      E   \n",
       "3      10.93      3.28         2.95          80.0         8.0      E   \n",
       "6       9.14      6.50         2.88          89.0         8.5      E   \n",
       "7       9.18      2.93         2.84          58.0         6.6      E   \n",
       "8       6.94      4.70         2.24          87.0         8.4      E   \n",
       "10     10.95      1.93         2.74          -1.0        -1.0          \n",
       "11      7.47      4.13         1.90          91.0         8.6      E   \n",
       "13      8.03      3.60         2.15          80.0         7.7      E   \n",
       "14      4.89      0.24         1.69          61.0         6.3      E   \n",
       "\n",
       "     user_category critic_category  \n",
       "0   Высокая оценка  Средняя оценка  \n",
       "2   Высокая оценка  Высокая оценка  \n",
       "3   Высокая оценка  Высокая оценка  \n",
       "6   Высокая оценка  Высокая оценка  \n",
       "7   Средняя оценка  Средняя оценка  \n",
       "8   Высокая оценка  Высокая оценка  \n",
       "10      Нет оценки      Нет оценки  \n",
       "11  Высокая оценка  Высокая оценка  \n",
       "13  Средняя оценка  Высокая оценка  \n",
       "14  Средняя оценка  Средняя оценка  "
      ]
     },
     "execution_count": 122,
     "metadata": {},
     "output_type": "execute_result"
    }
   ],
   "source": [
    "df_actual.head(10)"
   ]
  },
  {
   "cell_type": "code",
   "execution_count": 123,
   "id": "ae1a3cd2",
   "metadata": {},
   "outputs": [
    {
     "data": {
      "text/plain": [
       "user_category\n",
       "Нет оценки        6298\n",
       "Средняя оценка    4080\n",
       "Высокая оценка    2284\n",
       "Низкая оценка      116\n",
       "Name: user_score, dtype: int64"
      ]
     },
     "execution_count": 123,
     "metadata": {},
     "output_type": "execute_result"
    }
   ],
   "source": [
    "df_actual.groupby('user_category')['user_score'].count().sort_values(ascending=False)"
   ]
  },
  {
   "cell_type": "code",
   "execution_count": 124,
   "id": "149d26ad",
   "metadata": {},
   "outputs": [
    {
     "data": {
      "text/plain": [
       "critic_category\n",
       "Нет оценки        5612\n",
       "Средняя оценка    5422\n",
       "Высокая оценка    1689\n",
       "Низкая оценка       55\n",
       "Name: critic_score, dtype: int64"
      ]
     },
     "execution_count": 124,
     "metadata": {},
     "output_type": "execute_result"
    }
   ],
   "source": [
    "df_actual.groupby('critic_category', observed=True)['critic_score'].count().sort_values(ascending=False)"
   ]
  },
  {
   "cell_type": "markdown",
   "id": "4096d13a",
   "metadata": {},
   "source": [
    "Выведем топ-7 платформ с наибольшим числом игр, выпущенных за рассматриваемый период:"
   ]
  },
  {
   "cell_type": "code",
   "execution_count": 125,
   "id": "28e6d0c5",
   "metadata": {},
   "outputs": [
    {
     "data": {
      "text/html": [
       "<div>\n",
       "<style scoped>\n",
       "    .dataframe tbody tr th:only-of-type {\n",
       "        vertical-align: middle;\n",
       "    }\n",
       "\n",
       "    .dataframe tbody tr th {\n",
       "        vertical-align: top;\n",
       "    }\n",
       "\n",
       "    .dataframe thead th {\n",
       "        text-align: right;\n",
       "    }\n",
       "</style>\n",
       "<table border=\"1\" class=\"dataframe\">\n",
       "  <thead>\n",
       "    <tr style=\"text-align: right;\">\n",
       "      <th></th>\n",
       "      <th>platform</th>\n",
       "      <th>name</th>\n",
       "    </tr>\n",
       "  </thead>\n",
       "  <tbody>\n",
       "    <tr>\n",
       "      <th>9</th>\n",
       "      <td>PS2</td>\n",
       "      <td>2127</td>\n",
       "    </tr>\n",
       "    <tr>\n",
       "      <th>2</th>\n",
       "      <td>DS</td>\n",
       "      <td>2120</td>\n",
       "    </tr>\n",
       "    <tr>\n",
       "      <th>15</th>\n",
       "      <td>Wii</td>\n",
       "      <td>1275</td>\n",
       "    </tr>\n",
       "    <tr>\n",
       "      <th>12</th>\n",
       "      <td>PSP</td>\n",
       "      <td>1180</td>\n",
       "    </tr>\n",
       "    <tr>\n",
       "      <th>17</th>\n",
       "      <td>X360</td>\n",
       "      <td>1120</td>\n",
       "    </tr>\n",
       "    <tr>\n",
       "      <th>10</th>\n",
       "      <td>PS3</td>\n",
       "      <td>1086</td>\n",
       "    </tr>\n",
       "    <tr>\n",
       "      <th>4</th>\n",
       "      <td>GBA</td>\n",
       "      <td>811</td>\n",
       "    </tr>\n",
       "  </tbody>\n",
       "</table>\n",
       "</div>"
      ],
      "text/plain": [
       "   platform  name\n",
       "9       PS2  2127\n",
       "2        DS  2120\n",
       "15      Wii  1275\n",
       "12      PSP  1180\n",
       "17     X360  1120\n",
       "10      PS3  1086\n",
       "4       GBA   811"
      ]
     },
     "execution_count": 125,
     "metadata": {},
     "output_type": "execute_result"
    }
   ],
   "source": [
    "df_top7 = df_actual.groupby('platform', as_index=False)['name'].count()\n",
    "df_top7.sort_values(by='name', ascending=False).iloc[:7]"
   ]
  },
  {
   "cell_type": "markdown",
   "id": "0b67ff64",
   "metadata": {},
   "source": [
    "<div class=\"alert alert-success\">\n",
    "<h2> Комментарий ревьюера <a class=\"tocSkip\"> </h2>\n",
    "\n",
    "👍 Все отлично."
   ]
  },
  {
   "cell_type": "markdown",
   "id": "c0158881",
   "metadata": {
    "id": "c0158881"
   },
   "source": [
    "---\n",
    "\n",
    "## 5. Итоговый вывод\n",
    "\n",
    "В конце напишите основной вывод и отразите, какую работу проделали. Не забудьте указать описание среза данных и новых полей, которые добавили в исходный датасет."
   ]
  },
  {
   "cell_type": "markdown",
   "id": "3a60f771",
   "metadata": {
    "id": "20175f5b"
   },
   "source": [
    "**Промежуточный вывод:**\n",
    "\n",
    "Данные в датафрейме `df_actual` разделены на категории в зависимости от оценки пользователей и критиков. Также представлен топ-7 платформ по количеству игр за актуальный период 2000-2013 годов."
   ]
  },
  {
   "cell_type": "markdown",
   "id": "e0cbb50f",
   "metadata": {
    "id": "0c1afc40"
   },
   "source": [
    "В проекте последовательно проведены знакомство с данными и их типом, изменение типов данных, предобработка пропусков и дубликатов, фильтрация и категоризация данных. В итоге из 16956 строк и 11 столбцов исходный датафрейм преобразовался в новый с 12778 строками и 13 столбцами. Такие изменения обусловлены:\n",
    "\n",
    "1. Очисткой датафрейма от пропусков и дубликатов, в результате чего строк стало меньше.\n",
    "2. Фильтрацией данных, в результате чего количество строк также уменьшилось.\n",
    "3. Выделением категорий по столбцам `user_score` (пользовательские оценки) и `critic_score` (оценки критиков), в результате чего количество столбцов увеличилось."
   ]
  },
  {
   "cell_type": "code",
   "execution_count": 127,
   "id": "9fe570b3",
   "metadata": {
    "id": "9fe570b3"
   },
   "outputs": [
    {
     "data": {
      "text/plain": [
       "(16956, 11)"
      ]
     },
     "metadata": {},
     "output_type": "display_data"
    },
    {
     "data": {
      "text/plain": [
       "(12778, 13)"
      ]
     },
     "metadata": {},
     "output_type": "display_data"
    }
   ],
   "source": [
    "display(games_strcol)\n",
    "display(df_actual.shape)"
   ]
  },
  {
   "cell_type": "markdown",
   "id": "20c01dc4",
   "metadata": {},
   "source": [
    "На выходе получен датафрейм, с помощью которого коллегам будет легче изучить развитие игровой индустрии, опираясь на продажи игр в разных регионах, их жанр, оценки пользователей и критиков и соответствующие им категории.\n",
    "\n",
    "Датафрейм очищен от ненужных данных и приведен к предпочтительной для анализа форме."
   ]
  },
  {
   "cell_type": "markdown",
   "id": "6ac94f80",
   "metadata": {},
   "source": [
    "<div class=\"alert alert-success\">\n",
    "<h2> Комментарий ревьюера <a class=\"tocSkip\"> </h2>\n",
    " \n",
    "👍 Проект о предобработке, в общем выводе описываем, что делаем по предобработке. Все логично, отлично по оформлению. \n",
    "</div>    \n",
    "\n"
   ]
  },
  {
   "cell_type": "markdown",
   "id": "f0bb72d0",
   "metadata": {},
   "source": [
    "<div style=\"border:solid Chocolate 2px; padding: 40px\">\n",
    "\n",
    "**Общий вывод по проекту**\n",
    "    \n",
    "Спасибо за твой проект! Внимательная работа, практически все решения верные и оптимальные, но кое-что нужно доработать и кое-что можно улучшить, чтобы проект стал совсем замечательным.\n",
    "    \n",
    "**Отмечу положительные моменты проекта🚀**\n",
    "    \n",
    "* Отличное оформление. Есть описание, комментарии, выводы.\n",
    "* Хорошее владение кодом, инструментами предобработки. Все сложные моменты выполнены отлично.\n",
    "* Хорошая аргументация решений. Во всех случаях понятно, почему принимали те или иные решения.\n",
    "    \n",
    "**На что стоит обратить внимание🤔**\n",
    "   \n",
    "* Необходимо убрать лишнее и некорректное в шаге с неявными дубликатами. Там достаточно нормализовать данные, уточнить по идентичным категориям. Затем считаем дубликаты, удаляем дубликаты, считаем количество и долю удаленных строк за всю предобработку. \n",
    "* Эти и остальные замечания я также написал по ходу проекта.\n",
    "    \n",
    "**Желаю удачи и жду твой проект на повторное ревью!**😉\n",
    "    \n",
    "    \n",
    "</div>"
   ]
  },
  {
   "cell_type": "markdown",
   "id": "719bd416",
   "metadata": {},
   "source": [
    "<div style=\"border:solid Chocolate 2px; padding: 40px\">\n",
    "\n",
    "**Комментарий ко второй проверке**\n",
    "\n",
    "Спасибо за доработку. 🤝\n",
    "\n",
    "Критичных комментариев нет. \n",
    "    \n",
    "Если что-то пропустил или остались вопросы, напиши в телеграм @kriill\n",
    "\n",
    "Желаю удачи в дальнейшей учебе!\n",
    "\n",
    "</div>\n"
   ]
  }
 ],
 "metadata": {
  "ExecuteTimeLog": [
   {
    "duration": 427,
    "start_time": "2025-06-12T17:34:29.850Z"
   },
   {
    "duration": 3,
    "start_time": "2025-06-12T17:34:48.634Z"
   },
   {
    "duration": 70,
    "start_time": "2025-06-12T17:35:33.954Z"
   },
   {
    "duration": 45,
    "start_time": "2025-06-12T17:35:41.786Z"
   },
   {
    "duration": 120,
    "start_time": "2025-06-12T17:36:10.099Z"
   },
   {
    "duration": 18,
    "start_time": "2025-06-12T17:36:35.698Z"
   },
   {
    "duration": 27,
    "start_time": "2025-06-12T17:37:31.282Z"
   },
   {
    "duration": 16,
    "start_time": "2025-06-12T17:38:01.882Z"
   },
   {
    "duration": 16,
    "start_time": "2025-06-12T17:46:19.853Z"
   },
   {
    "duration": 2,
    "start_time": "2025-06-12T17:46:36.826Z"
   },
   {
    "duration": 3,
    "start_time": "2025-06-12T17:46:44.389Z"
   },
   {
    "duration": 2,
    "start_time": "2025-06-12T17:47:06.750Z"
   },
   {
    "duration": 4,
    "start_time": "2025-06-12T17:47:39.806Z"
   },
   {
    "duration": 4,
    "start_time": "2025-06-12T18:19:40.687Z"
   },
   {
    "duration": 4,
    "start_time": "2025-06-12T18:19:43.775Z"
   },
   {
    "duration": 5,
    "start_time": "2025-06-12T18:19:49.556Z"
   },
   {
    "duration": 9,
    "start_time": "2025-06-12T18:23:06.787Z"
   },
   {
    "duration": 31,
    "start_time": "2025-06-12T18:23:12.875Z"
   },
   {
    "duration": 4,
    "start_time": "2025-06-12T18:26:38.350Z"
   },
   {
    "duration": 4,
    "start_time": "2025-06-12T18:26:41.520Z"
   },
   {
    "duration": 22,
    "start_time": "2025-06-12T18:26:49.607Z"
   },
   {
    "duration": 59,
    "start_time": "2025-06-13T11:04:12.252Z"
   },
   {
    "duration": 7,
    "start_time": "2025-06-13T11:04:25.900Z"
   },
   {
    "duration": 7,
    "start_time": "2025-06-13T11:04:47.400Z"
   },
   {
    "duration": 7,
    "start_time": "2025-06-13T11:05:35.712Z"
   },
   {
    "duration": 8,
    "start_time": "2025-06-13T11:05:39.296Z"
   },
   {
    "duration": 8,
    "start_time": "2025-06-13T11:06:09.864Z"
   },
   {
    "duration": 5,
    "start_time": "2025-06-13T11:06:17.632Z"
   },
   {
    "duration": 413,
    "start_time": "2025-06-13T11:06:28.208Z"
   },
   {
    "duration": 172,
    "start_time": "2025-06-13T11:06:30.967Z"
   },
   {
    "duration": 33,
    "start_time": "2025-06-13T11:06:37.576Z"
   },
   {
    "duration": 27,
    "start_time": "2025-06-13T11:06:41.163Z"
   },
   {
    "duration": 4,
    "start_time": "2025-06-13T11:06:46.423Z"
   },
   {
    "duration": 5,
    "start_time": "2025-06-13T11:06:56.224Z"
   },
   {
    "duration": 88,
    "start_time": "2025-06-13T11:06:56.700Z"
   },
   {
    "duration": 3,
    "start_time": "2025-06-13T11:07:08.791Z"
   },
   {
    "duration": 24,
    "start_time": "2025-06-13T11:07:12.952Z"
   },
   {
    "duration": 33,
    "start_time": "2025-06-13T11:07:17.488Z"
   },
   {
    "duration": 5,
    "start_time": "2025-06-13T11:07:20.932Z"
   },
   {
    "duration": 6,
    "start_time": "2025-06-13T11:07:24.176Z"
   },
   {
    "duration": 15,
    "start_time": "2025-06-13T11:09:00.708Z"
   },
   {
    "duration": 87,
    "start_time": "2025-06-13T11:09:51.756Z"
   },
   {
    "duration": 11,
    "start_time": "2025-06-13T11:10:10.180Z"
   },
   {
    "duration": 13,
    "start_time": "2025-06-13T11:10:53.020Z"
   },
   {
    "duration": 11,
    "start_time": "2025-06-13T11:13:52.348Z"
   },
   {
    "duration": 7,
    "start_time": "2025-06-13T11:14:17.267Z"
   },
   {
    "duration": 5,
    "start_time": "2025-06-13T11:20:14.640Z"
   },
   {
    "duration": 14,
    "start_time": "2025-06-13T11:21:19.176Z"
   },
   {
    "duration": 92,
    "start_time": "2025-06-13T11:28:11.595Z"
   },
   {
    "duration": 11,
    "start_time": "2025-06-13T11:28:32.676Z"
   },
   {
    "duration": 391,
    "start_time": "2025-06-13T11:30:42.027Z"
   },
   {
    "duration": 12,
    "start_time": "2025-06-13T11:32:39.036Z"
   },
   {
    "duration": 82,
    "start_time": "2025-06-13T11:35:29.243Z"
   },
   {
    "duration": 4,
    "start_time": "2025-06-13T11:37:37.687Z"
   },
   {
    "duration": 4,
    "start_time": "2025-06-13T11:37:41.836Z"
   },
   {
    "duration": 4,
    "start_time": "2025-06-13T11:37:48.132Z"
   },
   {
    "duration": 5,
    "start_time": "2025-06-13T11:42:59.483Z"
   },
   {
    "duration": 5,
    "start_time": "2025-06-13T11:44:07.159Z"
   },
   {
    "duration": 9,
    "start_time": "2025-06-13T11:45:02.768Z"
   },
   {
    "duration": 14,
    "start_time": "2025-06-13T11:48:23.681Z"
   },
   {
    "duration": 11,
    "start_time": "2025-06-13T11:49:22.221Z"
   },
   {
    "duration": 8,
    "start_time": "2025-06-13T11:50:03.782Z"
   },
   {
    "duration": 7,
    "start_time": "2025-06-13T11:50:39.104Z"
   },
   {
    "duration": 6,
    "start_time": "2025-06-13T11:51:11.664Z"
   },
   {
    "duration": 7,
    "start_time": "2025-06-13T11:51:32.061Z"
   },
   {
    "duration": 10,
    "start_time": "2025-06-13T11:53:11.872Z"
   },
   {
    "duration": 7,
    "start_time": "2025-06-13T11:54:11.672Z"
   },
   {
    "duration": 8,
    "start_time": "2025-06-13T11:54:40.620Z"
   },
   {
    "duration": 34,
    "start_time": "2025-06-13T11:56:14.452Z"
   },
   {
    "duration": 17,
    "start_time": "2025-06-13T11:57:04.012Z"
   },
   {
    "duration": 90,
    "start_time": "2025-06-13T11:57:23.312Z"
   },
   {
    "duration": 16,
    "start_time": "2025-06-13T11:58:51.511Z"
   },
   {
    "duration": 4,
    "start_time": "2025-06-13T11:59:41.316Z"
   },
   {
    "duration": 79,
    "start_time": "2025-06-13T11:59:55.656Z"
   },
   {
    "duration": 33,
    "start_time": "2025-06-13T12:00:38.351Z"
   },
   {
    "duration": 4,
    "start_time": "2025-06-13T12:01:44.959Z"
   },
   {
    "duration": 21,
    "start_time": "2025-06-13T12:04:14.155Z"
   },
   {
    "duration": 9,
    "start_time": "2025-06-13T12:05:02.399Z"
   },
   {
    "duration": 17,
    "start_time": "2025-06-13T12:05:38.443Z"
   },
   {
    "duration": 9,
    "start_time": "2025-06-13T12:05:55.747Z"
   },
   {
    "duration": 16,
    "start_time": "2025-06-13T12:06:58.743Z"
   },
   {
    "duration": 15,
    "start_time": "2025-06-13T12:08:25.150Z"
   },
   {
    "duration": 9,
    "start_time": "2025-06-13T12:08:27.350Z"
   },
   {
    "duration": 10,
    "start_time": "2025-06-13T12:08:28.110Z"
   },
   {
    "duration": 17,
    "start_time": "2025-06-13T12:08:29.558Z"
   },
   {
    "duration": 4,
    "start_time": "2025-06-13T12:08:34.047Z"
   },
   {
    "duration": 15,
    "start_time": "2025-06-13T12:08:35.350Z"
   },
   {
    "duration": 9,
    "start_time": "2025-06-13T12:08:36.143Z"
   },
   {
    "duration": 9,
    "start_time": "2025-06-13T12:08:36.923Z"
   },
   {
    "duration": 3,
    "start_time": "2025-06-13T12:08:43.566Z"
   },
   {
    "duration": 132,
    "start_time": "2025-06-13T12:08:44.030Z"
   },
   {
    "duration": 14,
    "start_time": "2025-06-13T12:08:44.339Z"
   },
   {
    "duration": 17,
    "start_time": "2025-06-13T12:08:44.490Z"
   },
   {
    "duration": 2,
    "start_time": "2025-06-13T12:08:44.994Z"
   },
   {
    "duration": 3,
    "start_time": "2025-06-13T12:08:45.579Z"
   },
   {
    "duration": 4,
    "start_time": "2025-06-13T12:08:45.950Z"
   },
   {
    "duration": 22,
    "start_time": "2025-06-13T12:08:46.306Z"
   },
   {
    "duration": 20,
    "start_time": "2025-06-13T12:08:47.030Z"
   },
   {
    "duration": 5,
    "start_time": "2025-06-13T12:08:47.379Z"
   },
   {
    "duration": 14,
    "start_time": "2025-06-13T12:08:47.739Z"
   },
   {
    "duration": 11,
    "start_time": "2025-06-13T12:08:48.226Z"
   },
   {
    "duration": 11,
    "start_time": "2025-06-13T12:08:48.409Z"
   },
   {
    "duration": 7,
    "start_time": "2025-06-13T12:08:48.931Z"
   },
   {
    "duration": 7,
    "start_time": "2025-06-13T12:08:49.114Z"
   },
   {
    "duration": 5,
    "start_time": "2025-06-13T12:08:49.643Z"
   },
   {
    "duration": 12,
    "start_time": "2025-06-13T12:08:50.006Z"
   },
   {
    "duration": 14,
    "start_time": "2025-06-13T12:08:50.374Z"
   },
   {
    "duration": 4,
    "start_time": "2025-06-13T12:08:50.934Z"
   },
   {
    "duration": 5,
    "start_time": "2025-06-13T12:08:51.298Z"
   },
   {
    "duration": 11,
    "start_time": "2025-06-13T12:08:51.674Z"
   },
   {
    "duration": 8,
    "start_time": "2025-06-13T12:08:52.419Z"
   },
   {
    "duration": 9,
    "start_time": "2025-06-13T12:08:52.774Z"
   },
   {
    "duration": 9,
    "start_time": "2025-06-13T12:08:52.994Z"
   },
   {
    "duration": 6,
    "start_time": "2025-06-13T12:08:53.418Z"
   },
   {
    "duration": 8,
    "start_time": "2025-06-13T12:08:53.714Z"
   },
   {
    "duration": 9,
    "start_time": "2025-06-13T12:08:54.250Z"
   },
   {
    "duration": 9,
    "start_time": "2025-06-13T12:08:54.834Z"
   },
   {
    "duration": 5,
    "start_time": "2025-06-13T12:08:55.842Z"
   },
   {
    "duration": 33,
    "start_time": "2025-06-13T12:08:57.042Z"
   },
   {
    "duration": 17,
    "start_time": "2025-06-13T12:08:58.434Z"
   },
   {
    "duration": 18,
    "start_time": "2025-06-13T12:09:00.094Z"
   },
   {
    "duration": 3,
    "start_time": "2025-06-13T12:09:00.719Z"
   },
   {
    "duration": 4,
    "start_time": "2025-06-13T12:09:01.234Z"
   },
   {
    "duration": 20,
    "start_time": "2025-06-13T12:09:01.754Z"
   },
   {
    "duration": 15,
    "start_time": "2025-06-13T12:09:02.218Z"
   },
   {
    "duration": 10,
    "start_time": "2025-06-13T12:09:02.639Z"
   },
   {
    "duration": 16,
    "start_time": "2025-06-13T12:09:03.015Z"
   },
   {
    "duration": 7,
    "start_time": "2025-06-13T12:12:07.570Z"
   },
   {
    "duration": 6,
    "start_time": "2025-06-13T12:12:10.782Z"
   },
   {
    "duration": 17,
    "start_time": "2025-06-13T12:12:22.698Z"
   },
   {
    "duration": 4,
    "start_time": "2025-06-13T12:12:51.586Z"
   },
   {
    "duration": 4,
    "start_time": "2025-06-13T12:12:57.610Z"
   },
   {
    "duration": 86,
    "start_time": "2025-06-13T12:13:11.405Z"
   },
   {
    "duration": 9,
    "start_time": "2025-06-13T12:17:42.762Z"
   },
   {
    "duration": 92,
    "start_time": "2025-06-13T12:26:25.037Z"
   },
   {
    "duration": 10,
    "start_time": "2025-06-13T12:28:14.009Z"
   },
   {
    "duration": 7,
    "start_time": "2025-06-13T12:32:32.541Z"
   },
   {
    "duration": 10,
    "start_time": "2025-06-13T12:32:56.085Z"
   },
   {
    "duration": 10,
    "start_time": "2025-06-13T12:33:16.728Z"
   },
   {
    "duration": 10,
    "start_time": "2025-06-13T12:33:19.845Z"
   },
   {
    "duration": 6,
    "start_time": "2025-06-13T12:34:26.276Z"
   },
   {
    "duration": 7,
    "start_time": "2025-06-13T12:34:51.712Z"
   },
   {
    "duration": 31,
    "start_time": "2025-06-13T12:35:02.233Z"
   },
   {
    "duration": 8,
    "start_time": "2025-06-13T12:35:20.668Z"
   },
   {
    "duration": 8,
    "start_time": "2025-06-13T12:35:29.432Z"
   },
   {
    "duration": 14,
    "start_time": "2025-06-13T12:36:37.560Z"
   },
   {
    "duration": 8,
    "start_time": "2025-06-13T12:39:32.332Z"
   },
   {
    "duration": 5,
    "start_time": "2025-06-13T12:39:38.628Z"
   },
   {
    "duration": 52,
    "start_time": "2025-06-13T14:47:00.913Z"
   },
   {
    "duration": 8,
    "start_time": "2025-06-13T14:47:22.553Z"
   },
   {
    "duration": 454,
    "start_time": "2025-06-13T14:47:33.969Z"
   },
   {
    "duration": 128,
    "start_time": "2025-06-13T14:47:34.425Z"
   },
   {
    "duration": 23,
    "start_time": "2025-06-13T14:47:34.612Z"
   },
   {
    "duration": 19,
    "start_time": "2025-06-13T14:47:35.132Z"
   },
   {
    "duration": 3,
    "start_time": "2025-06-13T14:47:35.584Z"
   },
   {
    "duration": 4,
    "start_time": "2025-06-13T14:47:36.769Z"
   },
   {
    "duration": 4,
    "start_time": "2025-06-13T14:47:37.088Z"
   },
   {
    "duration": 25,
    "start_time": "2025-06-13T14:47:37.409Z"
   },
   {
    "duration": 21,
    "start_time": "2025-06-13T14:47:38.235Z"
   },
   {
    "duration": 6,
    "start_time": "2025-06-13T14:47:38.760Z"
   },
   {
    "duration": 23,
    "start_time": "2025-06-13T14:47:39.136Z"
   },
   {
    "duration": 11,
    "start_time": "2025-06-13T14:47:39.992Z"
   },
   {
    "duration": 12,
    "start_time": "2025-06-13T14:47:40.185Z"
   },
   {
    "duration": 9,
    "start_time": "2025-06-13T14:47:41.352Z"
   },
   {
    "duration": 7,
    "start_time": "2025-06-13T14:47:42.124Z"
   },
   {
    "duration": 5,
    "start_time": "2025-06-13T14:47:43.792Z"
   },
   {
    "duration": 16,
    "start_time": "2025-06-13T14:47:44.484Z"
   },
   {
    "duration": 13,
    "start_time": "2025-06-13T14:47:45.656Z"
   },
   {
    "duration": 6,
    "start_time": "2025-06-13T14:47:47.088Z"
   },
   {
    "duration": 5,
    "start_time": "2025-06-13T14:47:48.180Z"
   },
   {
    "duration": 14,
    "start_time": "2025-06-13T14:47:49.056Z"
   },
   {
    "duration": 8,
    "start_time": "2025-06-13T14:47:50.420Z"
   },
   {
    "duration": 7,
    "start_time": "2025-06-13T14:47:50.988Z"
   },
   {
    "duration": 8,
    "start_time": "2025-06-13T14:47:51.353Z"
   },
   {
    "duration": 5,
    "start_time": "2025-06-13T14:47:52.256Z"
   },
   {
    "duration": 11,
    "start_time": "2025-06-13T14:47:52.489Z"
   },
   {
    "duration": 9,
    "start_time": "2025-06-13T14:47:53.185Z"
   },
   {
    "duration": 10,
    "start_time": "2025-06-13T14:47:53.641Z"
   },
   {
    "duration": 6,
    "start_time": "2025-06-13T14:47:54.040Z"
   },
   {
    "duration": 37,
    "start_time": "2025-06-13T14:47:54.651Z"
   },
   {
    "duration": 18,
    "start_time": "2025-06-13T14:47:56.160Z"
   },
   {
    "duration": 18,
    "start_time": "2025-06-13T14:47:57.633Z"
   },
   {
    "duration": 31,
    "start_time": "2025-06-13T14:47:59.352Z"
   },
   {
    "duration": 5,
    "start_time": "2025-06-13T14:48:34.281Z"
   },
   {
    "duration": 1101,
    "start_time": "2025-06-13T14:48:59.234Z"
   },
   {
    "duration": 4,
    "start_time": "2025-06-13T14:49:09.748Z"
   },
   {
    "duration": 4,
    "start_time": "2025-06-13T14:54:00.509Z"
   },
   {
    "duration": 3,
    "start_time": "2025-06-13T14:59:02.440Z"
   },
   {
    "duration": 3,
    "start_time": "2025-06-13T14:59:23.209Z"
   }
  ],
  "colab": {
   "provenance": []
  },
  "kernelspec": {
   "display_name": "Python 3 (ipykernel)",
   "language": "python",
   "name": "python3"
  },
  "language_info": {
   "codemirror_mode": {
    "name": "ipython",
    "version": 3
   },
   "file_extension": ".py",
   "mimetype": "text/x-python",
   "name": "python",
   "nbconvert_exporter": "python",
   "pygments_lexer": "ipython3",
   "version": "3.9.5"
  },
  "toc": {
   "base_numbering": 1,
   "nav_menu": {},
   "number_sections": false,
   "sideBar": true,
   "skip_h1_title": true,
   "title_cell": "Table of Contents",
   "title_sidebar": "Contents",
   "toc_cell": false,
   "toc_position": {},
   "toc_section_display": true,
   "toc_window_display": false
  }
 },
 "nbformat": 4,
 "nbformat_minor": 5
}
